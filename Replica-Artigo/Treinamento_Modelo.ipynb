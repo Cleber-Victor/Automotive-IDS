{
 "cells": [
  {
   "cell_type": "markdown",
   "id": "06e14ec9",
   "metadata": {
    "id": "V2EZfqQcxPiX",
    "papermill": {
     "duration": 0.00464,
     "end_time": "2025-03-20T03:27:30.978239",
     "exception": false,
     "start_time": "2025-03-20T03:27:30.973599",
     "status": "completed"
    },
    "tags": []
   },
   "source": [
    "# Treinamento do Modelo"
   ]
  },
  {
   "cell_type": "code",
   "execution_count": null,
   "id": "06917a09",
   "metadata": {
    "collapsed": true,
    "execution": {
     "iopub.execute_input": "2025-03-20T03:27:30.989006Z",
     "iopub.status.busy": "2025-03-20T03:27:30.988735Z",
     "iopub.status.idle": "2025-03-20T03:27:30.992084Z",
     "shell.execute_reply": "2025-03-20T03:27:30.991241Z"
    },
    "id": "kOuQwHuux4uJ",
    "jupyter": {
     "outputs_hidden": true
    },
    "outputId": "21215111-e6b5-4c6d-d41c-babdc1ce7597",
    "papermill": {
     "duration": 0.010036,
     "end_time": "2025-03-20T03:27:30.993285",
     "exception": false,
     "start_time": "2025-03-20T03:27:30.983249",
     "status": "completed"
    },
    "tags": []
   },
   "outputs": [],
   "source": [
    "# #!pip uninstall tensorflow\n",
    "# !pip install tensorflow"
   ]
  },
  {
   "cell_type": "code",
   "execution_count": null,
   "id": "3940ec7d",
   "metadata": {
    "execution": {
     "iopub.execute_input": "2025-03-20T03:27:31.004089Z",
     "iopub.status.busy": "2025-03-20T03:27:31.003840Z",
     "iopub.status.idle": "2025-03-20T03:27:43.772384Z",
     "shell.execute_reply": "2025-03-20T03:27:43.771307Z"
    },
    "id": "aaZSkcuHxu78",
    "papermill": {
     "duration": 12.775966,
     "end_time": "2025-03-20T03:27:43.774254",
     "exception": false,
     "start_time": "2025-03-20T03:27:30.998288",
     "status": "completed"
    },
    "tags": []
   },
   "outputs": [],
   "source": [
    "# Importação das bibliotecas necessárias\n",
    "from sklearn.model_selection import StratifiedKFold\n",
    "\n",
    "import random\n",
    "import gc\n",
    "\n",
    "import tensorflow as tf\n",
    "import numpy as np\n",
    "import tensorflow.keras as keras\n",
    "from tensorflow.keras import datasets, layers, models\n",
    "from tensorflow.keras import regularizers\n",
    "\n",
    "from sklearn.metrics import accuracy_score\n",
    "from sklearn.metrics import precision_score\n",
    "from sklearn.metrics import recall_score\n",
    "from sklearn.metrics import f1_score\n",
    "from sklearn.metrics import roc_auc_score\n",
    "from sklearn.model_selection import StratifiedKFold, cross_val_score\n",
    "from sklearn.metrics import classification_report"
   ]
  },
  {
   "cell_type": "code",
   "execution_count": null,
   "id": "395cc750",
   "metadata": {},
   "outputs": [],
   "source": [
    "# Define sementes para a possível replicação dos resultados\n",
    "def reset_seeds(seed=42):\n",
    "    np.random.seed(seed)\n",
    "    random.seed(seed)\n",
    "    tf.random.set_seed(seed)"
   ]
  },
  {
   "cell_type": "markdown",
   "id": "000db3d7",
   "metadata": {
    "id": "bzcP3kqY2ijN",
    "papermill": {
     "duration": 0.004874,
     "end_time": "2025-03-20T03:27:43.784413",
     "exception": false,
     "start_time": "2025-03-20T03:27:43.779539",
     "status": "completed"
    },
    "tags": []
   },
   "source": [
    "Arquitetura do modelo:"
   ]
  },
  {
   "cell_type": "code",
   "execution_count": null,
   "id": "8e8f77a2",
   "metadata": {
    "execution": {
     "iopub.execute_input": "2025-03-20T03:27:43.795654Z",
     "iopub.status.busy": "2025-03-20T03:27:43.795107Z",
     "iopub.status.idle": "2025-03-20T03:27:43.801532Z",
     "shell.execute_reply": "2025-03-20T03:27:43.800774Z"
    },
    "id": "wriTLVB62iCl",
    "papermill": {
     "duration": 0.013536,
     "end_time": "2025-03-20T03:27:43.802883",
     "exception": false,
     "start_time": "2025-03-20T03:27:43.789347",
     "status": "completed"
    },
    "tags": []
   },
   "outputs": [],
   "source": [
    "def create_model():\n",
    "  # Camada de entrada\n",
    "  inputs = keras.Input(shape=(44, 116, 1))\n",
    "\n",
    "  # Primeira camada convolucional seguida de normalização e pooling\n",
    "  x = layers.Conv2D(32, (5, 5), strides=(1,1), padding=\"same\", activation=\"relu\", kernel_regularizer='l2')(inputs)\n",
    "  x = layers.BatchNormalization(momentum=0.99, epsilon=0.001)(x)\n",
    "  x = layers.MaxPooling2D(pool_size=(2, 2))(x)\n",
    "\n",
    "  # Segunda camada convolucional seguida de normalização e pooling\n",
    "  x = layers.Conv2D(64, (5, 5), strides=(1,1), padding=\"same\", activation=\"relu\", kernel_regularizer='l2')(x)\n",
    "  x = layers.BatchNormalization(momentum=0.99, epsilon=0.001)(x)\n",
    "  x = layers.MaxPooling2D(pool_size=(2, 2))(x)\n",
    "\n",
    "  # Camadas totalmente conectadas com dropout\n",
    "  x = layers.Flatten()(x)\n",
    "  x = layers.Dropout(0.3)(x)\n",
    "  x = layers.Dense(units=64, activation=\"relu\")(x)\n",
    "  x = layers.Dropout(0.3)(x)\n",
    "  outputs = layers.Dense(units=1, activation=\"sigmoid\")(x)\n",
    "\n",
    "  # Criação do modelo\n",
    "  model = keras.Model(inputs=inputs, outputs=outputs)\n",
    "  \n",
    "  # Compilação do modelo com otimizador Adam\n",
    "  opt = tf.keras.optimizers.Adam(learning_rate=0.001)\n",
    "  model.compile(loss=\"binary_crossentropy\", optimizer=opt, metrics=[tf.keras.metrics.BinaryAccuracy(name=\"binary_accuracy\")])\n",
    "\n",
    "  return model"
   ]
  },
  {
   "cell_type": "code",
   "execution_count": null,
   "id": "462d4e33",
   "metadata": {
    "execution": {
     "iopub.execute_input": "2025-03-20T03:27:43.813678Z",
     "iopub.status.busy": "2025-03-20T03:27:43.813392Z",
     "iopub.status.idle": "2025-03-20T03:27:49.877758Z",
     "shell.execute_reply": "2025-03-20T03:27:49.877020Z"
    },
    "id": "qSkx3RvwxT_Z",
    "papermill": {
     "duration": 6.071605,
     "end_time": "2025-03-20T03:27:49.879358",
     "exception": false,
     "start_time": "2025-03-20T03:27:43.807753",
     "status": "completed"
    },
    "tags": []
   },
   "outputs": [],
   "source": [
    "# Caminho para os dados de entrada\n",
    "input_file_path = \"../input/auteth-intrusion-dataset-treated\"\n",
    "\n",
    "# Carregamento dos dados de entrada (features)\n",
    "data = np.load(f\"{input_file_path}/x_indoors_packets_agg.npz\")\n",
    "x = data['arr_0']  # Acessa o array 'x' salvo no arquivo\n",
    "\n",
    "# Carregamento dos dados de entrada (labels)\n",
    "data = np.load(f\"{input_file_path}/y_indoor_label_agg.npz\")\n",
    "y = data['arr_0']  # Acessa o array 'y' salvo no arquivo"
   ]
  },
  {
   "cell_type": "code",
   "execution_count": null,
   "id": "250f648d",
   "metadata": {
    "execution": {
     "iopub.execute_input": "2025-03-20T03:27:49.891072Z",
     "iopub.status.busy": "2025-03-20T03:27:49.890813Z",
     "iopub.status.idle": "2025-03-20T03:27:49.895858Z",
     "shell.execute_reply": "2025-03-20T03:27:49.895098Z"
    },
    "id": "q3eWPgWcxSHN",
    "outputId": "625c5a6a-2d53-4b89-f5f4-561e936a74c1",
    "papermill": {
     "duration": 0.012084,
     "end_time": "2025-03-20T03:27:49.897253",
     "exception": false,
     "start_time": "2025-03-20T03:27:49.885169",
     "status": "completed"
    },
    "tags": []
   },
   "outputs": [
    {
     "data": {
      "text/plain": [
       "(643266, 44, 116)"
      ]
     },
     "execution_count": 18,
     "metadata": {},
     "output_type": "execute_result"
    }
   ],
   "source": [
    "# Verificação da forma dos dados de entrada\n",
    "x.shape"
   ]
  },
  {
   "cell_type": "code",
   "execution_count": null,
   "id": "4b81a4cb",
   "metadata": {
    "execution": {
     "iopub.execute_input": "2025-03-20T03:27:49.908319Z",
     "iopub.status.busy": "2025-03-20T03:27:49.908077Z",
     "iopub.status.idle": "2025-03-20T03:27:52.107863Z",
     "shell.execute_reply": "2025-03-20T03:27:52.107126Z"
    },
    "id": "1k7GzpBB2YVc",
    "outputId": "6c06d1db-83d7-4fc1-e467-93dbaf1a54ef",
    "papermill": {
     "duration": 2.20647,
     "end_time": "2025-03-20T03:27:52.109021",
     "exception": false,
     "start_time": "2025-03-20T03:27:49.902551",
     "status": "completed"
    },
    "tags": []
   },
   "outputs": [
    {
     "data": {
      "text/html": [
       "<pre style=\"white-space:pre;overflow-x:auto;line-height:normal;font-family:Menlo,'DejaVu Sans Mono',consolas,'Courier New',monospace\"><span style=\"font-weight: bold\">Model: \"functional\"</span>\n",
       "</pre>\n"
      ],
      "text/plain": [
       "\u001b[1mModel: \"functional\"\u001b[0m\n"
      ]
     },
     "metadata": {},
     "output_type": "display_data"
    },
    {
     "data": {
      "text/html": [
       "<pre style=\"white-space:pre;overflow-x:auto;line-height:normal;font-family:Menlo,'DejaVu Sans Mono',consolas,'Courier New',monospace\">┏━━━━━━━━━━━━━━━━━━━━━━━━━━━━━━━━━━━━━━┳━━━━━━━━━━━━━━━━━━━━━━━━━━━━━┳━━━━━━━━━━━━━━━━━┓\n",
       "┃<span style=\"font-weight: bold\"> Layer (type)                         </span>┃<span style=\"font-weight: bold\"> Output Shape                </span>┃<span style=\"font-weight: bold\">         Param # </span>┃\n",
       "┡━━━━━━━━━━━━━━━━━━━━━━━━━━━━━━━━━━━━━━╇━━━━━━━━━━━━━━━━━━━━━━━━━━━━━╇━━━━━━━━━━━━━━━━━┩\n",
       "│ input_layer (<span style=\"color: #0087ff; text-decoration-color: #0087ff\">InputLayer</span>)             │ (<span style=\"color: #00d7ff; text-decoration-color: #00d7ff\">None</span>, <span style=\"color: #00af00; text-decoration-color: #00af00\">44</span>, <span style=\"color: #00af00; text-decoration-color: #00af00\">116</span>, <span style=\"color: #00af00; text-decoration-color: #00af00\">1</span>)          │               <span style=\"color: #00af00; text-decoration-color: #00af00\">0</span> │\n",
       "├──────────────────────────────────────┼─────────────────────────────┼─────────────────┤\n",
       "│ conv2d (<span style=\"color: #0087ff; text-decoration-color: #0087ff\">Conv2D</span>)                      │ (<span style=\"color: #00d7ff; text-decoration-color: #00d7ff\">None</span>, <span style=\"color: #00af00; text-decoration-color: #00af00\">44</span>, <span style=\"color: #00af00; text-decoration-color: #00af00\">116</span>, <span style=\"color: #00af00; text-decoration-color: #00af00\">32</span>)         │             <span style=\"color: #00af00; text-decoration-color: #00af00\">832</span> │\n",
       "├──────────────────────────────────────┼─────────────────────────────┼─────────────────┤\n",
       "│ batch_normalization                  │ (<span style=\"color: #00d7ff; text-decoration-color: #00d7ff\">None</span>, <span style=\"color: #00af00; text-decoration-color: #00af00\">44</span>, <span style=\"color: #00af00; text-decoration-color: #00af00\">116</span>, <span style=\"color: #00af00; text-decoration-color: #00af00\">32</span>)         │             <span style=\"color: #00af00; text-decoration-color: #00af00\">128</span> │\n",
       "│ (<span style=\"color: #0087ff; text-decoration-color: #0087ff\">BatchNormalization</span>)                 │                             │                 │\n",
       "├──────────────────────────────────────┼─────────────────────────────┼─────────────────┤\n",
       "│ max_pooling2d (<span style=\"color: #0087ff; text-decoration-color: #0087ff\">MaxPooling2D</span>)         │ (<span style=\"color: #00d7ff; text-decoration-color: #00d7ff\">None</span>, <span style=\"color: #00af00; text-decoration-color: #00af00\">22</span>, <span style=\"color: #00af00; text-decoration-color: #00af00\">58</span>, <span style=\"color: #00af00; text-decoration-color: #00af00\">32</span>)          │               <span style=\"color: #00af00; text-decoration-color: #00af00\">0</span> │\n",
       "├──────────────────────────────────────┼─────────────────────────────┼─────────────────┤\n",
       "│ conv2d_1 (<span style=\"color: #0087ff; text-decoration-color: #0087ff\">Conv2D</span>)                    │ (<span style=\"color: #00d7ff; text-decoration-color: #00d7ff\">None</span>, <span style=\"color: #00af00; text-decoration-color: #00af00\">22</span>, <span style=\"color: #00af00; text-decoration-color: #00af00\">58</span>, <span style=\"color: #00af00; text-decoration-color: #00af00\">64</span>)          │          <span style=\"color: #00af00; text-decoration-color: #00af00\">51,264</span> │\n",
       "├──────────────────────────────────────┼─────────────────────────────┼─────────────────┤\n",
       "│ batch_normalization_1                │ (<span style=\"color: #00d7ff; text-decoration-color: #00d7ff\">None</span>, <span style=\"color: #00af00; text-decoration-color: #00af00\">22</span>, <span style=\"color: #00af00; text-decoration-color: #00af00\">58</span>, <span style=\"color: #00af00; text-decoration-color: #00af00\">64</span>)          │             <span style=\"color: #00af00; text-decoration-color: #00af00\">256</span> │\n",
       "│ (<span style=\"color: #0087ff; text-decoration-color: #0087ff\">BatchNormalization</span>)                 │                             │                 │\n",
       "├──────────────────────────────────────┼─────────────────────────────┼─────────────────┤\n",
       "│ max_pooling2d_1 (<span style=\"color: #0087ff; text-decoration-color: #0087ff\">MaxPooling2D</span>)       │ (<span style=\"color: #00d7ff; text-decoration-color: #00d7ff\">None</span>, <span style=\"color: #00af00; text-decoration-color: #00af00\">11</span>, <span style=\"color: #00af00; text-decoration-color: #00af00\">29</span>, <span style=\"color: #00af00; text-decoration-color: #00af00\">64</span>)          │               <span style=\"color: #00af00; text-decoration-color: #00af00\">0</span> │\n",
       "├──────────────────────────────────────┼─────────────────────────────┼─────────────────┤\n",
       "│ flatten (<span style=\"color: #0087ff; text-decoration-color: #0087ff\">Flatten</span>)                    │ (<span style=\"color: #00d7ff; text-decoration-color: #00d7ff\">None</span>, <span style=\"color: #00af00; text-decoration-color: #00af00\">20416</span>)               │               <span style=\"color: #00af00; text-decoration-color: #00af00\">0</span> │\n",
       "├──────────────────────────────────────┼─────────────────────────────┼─────────────────┤\n",
       "│ dropout (<span style=\"color: #0087ff; text-decoration-color: #0087ff\">Dropout</span>)                    │ (<span style=\"color: #00d7ff; text-decoration-color: #00d7ff\">None</span>, <span style=\"color: #00af00; text-decoration-color: #00af00\">20416</span>)               │               <span style=\"color: #00af00; text-decoration-color: #00af00\">0</span> │\n",
       "├──────────────────────────────────────┼─────────────────────────────┼─────────────────┤\n",
       "│ dense (<span style=\"color: #0087ff; text-decoration-color: #0087ff\">Dense</span>)                        │ (<span style=\"color: #00d7ff; text-decoration-color: #00d7ff\">None</span>, <span style=\"color: #00af00; text-decoration-color: #00af00\">64</span>)                  │       <span style=\"color: #00af00; text-decoration-color: #00af00\">1,306,688</span> │\n",
       "├──────────────────────────────────────┼─────────────────────────────┼─────────────────┤\n",
       "│ dropout_1 (<span style=\"color: #0087ff; text-decoration-color: #0087ff\">Dropout</span>)                  │ (<span style=\"color: #00d7ff; text-decoration-color: #00d7ff\">None</span>, <span style=\"color: #00af00; text-decoration-color: #00af00\">64</span>)                  │               <span style=\"color: #00af00; text-decoration-color: #00af00\">0</span> │\n",
       "├──────────────────────────────────────┼─────────────────────────────┼─────────────────┤\n",
       "│ dense_1 (<span style=\"color: #0087ff; text-decoration-color: #0087ff\">Dense</span>)                      │ (<span style=\"color: #00d7ff; text-decoration-color: #00d7ff\">None</span>, <span style=\"color: #00af00; text-decoration-color: #00af00\">1</span>)                   │              <span style=\"color: #00af00; text-decoration-color: #00af00\">65</span> │\n",
       "└──────────────────────────────────────┴─────────────────────────────┴─────────────────┘\n",
       "</pre>\n"
      ],
      "text/plain": [
       "┏━━━━━━━━━━━━━━━━━━━━━━━━━━━━━━━━━━━━━━┳━━━━━━━━━━━━━━━━━━━━━━━━━━━━━┳━━━━━━━━━━━━━━━━━┓\n",
       "┃\u001b[1m \u001b[0m\u001b[1mLayer (type)                        \u001b[0m\u001b[1m \u001b[0m┃\u001b[1m \u001b[0m\u001b[1mOutput Shape               \u001b[0m\u001b[1m \u001b[0m┃\u001b[1m \u001b[0m\u001b[1m        Param #\u001b[0m\u001b[1m \u001b[0m┃\n",
       "┡━━━━━━━━━━━━━━━━━━━━━━━━━━━━━━━━━━━━━━╇━━━━━━━━━━━━━━━━━━━━━━━━━━━━━╇━━━━━━━━━━━━━━━━━┩\n",
       "│ input_layer (\u001b[38;5;33mInputLayer\u001b[0m)             │ (\u001b[38;5;45mNone\u001b[0m, \u001b[38;5;34m44\u001b[0m, \u001b[38;5;34m116\u001b[0m, \u001b[38;5;34m1\u001b[0m)          │               \u001b[38;5;34m0\u001b[0m │\n",
       "├──────────────────────────────────────┼─────────────────────────────┼─────────────────┤\n",
       "│ conv2d (\u001b[38;5;33mConv2D\u001b[0m)                      │ (\u001b[38;5;45mNone\u001b[0m, \u001b[38;5;34m44\u001b[0m, \u001b[38;5;34m116\u001b[0m, \u001b[38;5;34m32\u001b[0m)         │             \u001b[38;5;34m832\u001b[0m │\n",
       "├──────────────────────────────────────┼─────────────────────────────┼─────────────────┤\n",
       "│ batch_normalization                  │ (\u001b[38;5;45mNone\u001b[0m, \u001b[38;5;34m44\u001b[0m, \u001b[38;5;34m116\u001b[0m, \u001b[38;5;34m32\u001b[0m)         │             \u001b[38;5;34m128\u001b[0m │\n",
       "│ (\u001b[38;5;33mBatchNormalization\u001b[0m)                 │                             │                 │\n",
       "├──────────────────────────────────────┼─────────────────────────────┼─────────────────┤\n",
       "│ max_pooling2d (\u001b[38;5;33mMaxPooling2D\u001b[0m)         │ (\u001b[38;5;45mNone\u001b[0m, \u001b[38;5;34m22\u001b[0m, \u001b[38;5;34m58\u001b[0m, \u001b[38;5;34m32\u001b[0m)          │               \u001b[38;5;34m0\u001b[0m │\n",
       "├──────────────────────────────────────┼─────────────────────────────┼─────────────────┤\n",
       "│ conv2d_1 (\u001b[38;5;33mConv2D\u001b[0m)                    │ (\u001b[38;5;45mNone\u001b[0m, \u001b[38;5;34m22\u001b[0m, \u001b[38;5;34m58\u001b[0m, \u001b[38;5;34m64\u001b[0m)          │          \u001b[38;5;34m51,264\u001b[0m │\n",
       "├──────────────────────────────────────┼─────────────────────────────┼─────────────────┤\n",
       "│ batch_normalization_1                │ (\u001b[38;5;45mNone\u001b[0m, \u001b[38;5;34m22\u001b[0m, \u001b[38;5;34m58\u001b[0m, \u001b[38;5;34m64\u001b[0m)          │             \u001b[38;5;34m256\u001b[0m │\n",
       "│ (\u001b[38;5;33mBatchNormalization\u001b[0m)                 │                             │                 │\n",
       "├──────────────────────────────────────┼─────────────────────────────┼─────────────────┤\n",
       "│ max_pooling2d_1 (\u001b[38;5;33mMaxPooling2D\u001b[0m)       │ (\u001b[38;5;45mNone\u001b[0m, \u001b[38;5;34m11\u001b[0m, \u001b[38;5;34m29\u001b[0m, \u001b[38;5;34m64\u001b[0m)          │               \u001b[38;5;34m0\u001b[0m │\n",
       "├──────────────────────────────────────┼─────────────────────────────┼─────────────────┤\n",
       "│ flatten (\u001b[38;5;33mFlatten\u001b[0m)                    │ (\u001b[38;5;45mNone\u001b[0m, \u001b[38;5;34m20416\u001b[0m)               │               \u001b[38;5;34m0\u001b[0m │\n",
       "├──────────────────────────────────────┼─────────────────────────────┼─────────────────┤\n",
       "│ dropout (\u001b[38;5;33mDropout\u001b[0m)                    │ (\u001b[38;5;45mNone\u001b[0m, \u001b[38;5;34m20416\u001b[0m)               │               \u001b[38;5;34m0\u001b[0m │\n",
       "├──────────────────────────────────────┼─────────────────────────────┼─────────────────┤\n",
       "│ dense (\u001b[38;5;33mDense\u001b[0m)                        │ (\u001b[38;5;45mNone\u001b[0m, \u001b[38;5;34m64\u001b[0m)                  │       \u001b[38;5;34m1,306,688\u001b[0m │\n",
       "├──────────────────────────────────────┼─────────────────────────────┼─────────────────┤\n",
       "│ dropout_1 (\u001b[38;5;33mDropout\u001b[0m)                  │ (\u001b[38;5;45mNone\u001b[0m, \u001b[38;5;34m64\u001b[0m)                  │               \u001b[38;5;34m0\u001b[0m │\n",
       "├──────────────────────────────────────┼─────────────────────────────┼─────────────────┤\n",
       "│ dense_1 (\u001b[38;5;33mDense\u001b[0m)                      │ (\u001b[38;5;45mNone\u001b[0m, \u001b[38;5;34m1\u001b[0m)                   │              \u001b[38;5;34m65\u001b[0m │\n",
       "└──────────────────────────────────────┴─────────────────────────────┴─────────────────┘\n"
      ]
     },
     "metadata": {},
     "output_type": "display_data"
    },
    {
     "data": {
      "text/html": [
       "<pre style=\"white-space:pre;overflow-x:auto;line-height:normal;font-family:Menlo,'DejaVu Sans Mono',consolas,'Courier New',monospace\"><span style=\"font-weight: bold\"> Total params: </span><span style=\"color: #00af00; text-decoration-color: #00af00\">1,359,233</span> (5.19 MB)\n",
       "</pre>\n"
      ],
      "text/plain": [
       "\u001b[1m Total params: \u001b[0m\u001b[38;5;34m1,359,233\u001b[0m (5.19 MB)\n"
      ]
     },
     "metadata": {},
     "output_type": "display_data"
    },
    {
     "data": {
      "text/html": [
       "<pre style=\"white-space:pre;overflow-x:auto;line-height:normal;font-family:Menlo,'DejaVu Sans Mono',consolas,'Courier New',monospace\"><span style=\"font-weight: bold\"> Trainable params: </span><span style=\"color: #00af00; text-decoration-color: #00af00\">1,359,041</span> (5.18 MB)\n",
       "</pre>\n"
      ],
      "text/plain": [
       "\u001b[1m Trainable params: \u001b[0m\u001b[38;5;34m1,359,041\u001b[0m (5.18 MB)\n"
      ]
     },
     "metadata": {},
     "output_type": "display_data"
    },
    {
     "data": {
      "text/html": [
       "<pre style=\"white-space:pre;overflow-x:auto;line-height:normal;font-family:Menlo,'DejaVu Sans Mono',consolas,'Courier New',monospace\"><span style=\"font-weight: bold\"> Non-trainable params: </span><span style=\"color: #00af00; text-decoration-color: #00af00\">192</span> (768.00 B)\n",
       "</pre>\n"
      ],
      "text/plain": [
       "\u001b[1m Non-trainable params: \u001b[0m\u001b[38;5;34m192\u001b[0m (768.00 B)\n"
      ]
     },
     "metadata": {},
     "output_type": "display_data"
    },
    {
     "name": "stdout",
     "output_type": "stream",
     "text": [
      "None\n"
     ]
    }
   ],
   "source": [
    "# Reset das seeds, criação e resumo do modelo\n",
    "reset_seeds()\n",
    "model = create_model()\n",
    "print(model.summary())"
   ]
  },
  {
   "cell_type": "code",
   "execution_count": null,
   "id": "3f60aa7e",
   "metadata": {
    "execution": {
     "iopub.execute_input": "2025-03-20T03:27:52.122324Z",
     "iopub.status.busy": "2025-03-20T03:27:52.122054Z",
     "iopub.status.idle": "2025-03-20T05:20:55.550329Z",
     "shell.execute_reply": "2025-03-20T05:20:55.549658Z"
    },
    "id": "C5WCifLf-QtE",
    "outputId": "c986e904-82f3-4e55-e918-275076952166",
    "papermill": {
     "duration": 6783.43655,
     "end_time": "2025-03-20T05:20:55.551863",
     "exception": false,
     "start_time": "2025-03-20T03:27:52.115313",
     "status": "completed"
    },
    "tags": []
   },
   "outputs": [
    {
     "name": "stdout",
     "output_type": "stream",
     "text": [
      "Fold atual: 1\n",
      "Epoch 1/30\n",
      "\u001b[1m8041/8041\u001b[0m \u001b[32m━━━━━━━━━━━━━━━━━━━━\u001b[0m\u001b[37m\u001b[0m \u001b[1m75s\u001b[0m 9ms/step - binary_accuracy: 0.9209 - loss: 0.2877 - val_binary_accuracy: 0.9836 - val_loss: 0.0852\n",
      "Epoch 2/30\n",
      "\u001b[1m8041/8041\u001b[0m \u001b[32m━━━━━━━━━━━━━━━━━━━━\u001b[0m\u001b[37m\u001b[0m \u001b[1m63s\u001b[0m 8ms/step - binary_accuracy: 0.9795 - loss: 0.0994 - val_binary_accuracy: 0.9886 - val_loss: 0.0692\n",
      "Epoch 3/30\n",
      "\u001b[1m8041/8041\u001b[0m \u001b[32m━━━━━━━━━━━━━━━━━━━━\u001b[0m\u001b[37m\u001b[0m \u001b[1m63s\u001b[0m 8ms/step - binary_accuracy: 0.9835 - loss: 0.0813 - val_binary_accuracy: 0.9914 - val_loss: 0.0571\n",
      "Epoch 4/30\n",
      "\u001b[1m8041/8041\u001b[0m \u001b[32m━━━━━━━━━━━━━━━━━━━━\u001b[0m\u001b[37m\u001b[0m \u001b[1m63s\u001b[0m 8ms/step - binary_accuracy: 0.9852 - loss: 0.0747 - val_binary_accuracy: 0.9882 - val_loss: 0.0778\n",
      "Epoch 5/30\n",
      "\u001b[1m8041/8041\u001b[0m \u001b[32m━━━━━━━━━━━━━━━━━━━━\u001b[0m\u001b[37m\u001b[0m \u001b[1m63s\u001b[0m 8ms/step - binary_accuracy: 0.9868 - loss: 0.0700 - val_binary_accuracy: 0.9925 - val_loss: 0.0506\n",
      "Epoch 6/30\n",
      "\u001b[1m8041/8041\u001b[0m \u001b[32m━━━━━━━━━━━━━━━━━━━━\u001b[0m\u001b[37m\u001b[0m \u001b[1m63s\u001b[0m 8ms/step - binary_accuracy: 0.9873 - loss: 0.0672 - val_binary_accuracy: 0.9934 - val_loss: 0.0448\n",
      "Epoch 7/30\n",
      "\u001b[1m8041/8041\u001b[0m \u001b[32m━━━━━━━━━━━━━━━━━━━━\u001b[0m\u001b[37m\u001b[0m \u001b[1m63s\u001b[0m 8ms/step - binary_accuracy: 0.9879 - loss: 0.0635 - val_binary_accuracy: 0.9895 - val_loss: 0.0623\n",
      "Epoch 8/30\n",
      "\u001b[1m8041/8041\u001b[0m \u001b[32m━━━━━━━━━━━━━━━━━━━━\u001b[0m\u001b[37m\u001b[0m \u001b[1m63s\u001b[0m 8ms/step - binary_accuracy: 0.9886 - loss: 0.0611 - val_binary_accuracy: 0.9858 - val_loss: 0.0667\n",
      "Epoch 9/30\n",
      "\u001b[1m8041/8041\u001b[0m \u001b[32m━━━━━━━━━━━━━━━━━━━━\u001b[0m\u001b[37m\u001b[0m \u001b[1m63s\u001b[0m 8ms/step - binary_accuracy: 0.9885 - loss: 0.0594 - val_binary_accuracy: 0.9929 - val_loss: 0.0491\n",
      "Epoch 10/30\n",
      "\u001b[1m8041/8041\u001b[0m \u001b[32m━━━━━━━━━━━━━━━━━━━━\u001b[0m\u001b[37m\u001b[0m \u001b[1m63s\u001b[0m 8ms/step - binary_accuracy: 0.9885 - loss: 0.0587 - val_binary_accuracy: 0.9628 - val_loss: 0.1041\n",
      "Epoch 11/30\n",
      "\u001b[1m8041/8041\u001b[0m \u001b[32m━━━━━━━━━━━━━━━━━━━━\u001b[0m\u001b[37m\u001b[0m \u001b[1m63s\u001b[0m 8ms/step - binary_accuracy: 0.9890 - loss: 0.0577 - val_binary_accuracy: 0.9881 - val_loss: 0.0713\n",
      "Epoch 11: early stopping\n",
      "\u001b[1m4021/4021\u001b[0m \u001b[32m━━━━━━━━━━━━━━━━━━━━\u001b[0m\u001b[37m\u001b[0m \u001b[1m6s\u001b[0m 1ms/step\n",
      "Fold atual: 2\n",
      "Epoch 1/30\n",
      "\u001b[1m8041/8041\u001b[0m \u001b[32m━━━━━━━━━━━━━━━━━━━━\u001b[0m\u001b[37m\u001b[0m \u001b[1m72s\u001b[0m 9ms/step - binary_accuracy: 0.9225 - loss: 0.2781 - val_binary_accuracy: 0.9853 - val_loss: 0.0843\n",
      "Epoch 2/30\n",
      "\u001b[1m8041/8041\u001b[0m \u001b[32m━━━━━━━━━━━━━━━━━━━━\u001b[0m\u001b[37m\u001b[0m \u001b[1m63s\u001b[0m 8ms/step - binary_accuracy: 0.9774 - loss: 0.1054 - val_binary_accuracy: 0.9885 - val_loss: 0.0689\n",
      "Epoch 3/30\n",
      "\u001b[1m8041/8041\u001b[0m \u001b[32m━━━━━━━━━━━━━━━━━━━━\u001b[0m\u001b[37m\u001b[0m \u001b[1m63s\u001b[0m 8ms/step - binary_accuracy: 0.9833 - loss: 0.0828 - val_binary_accuracy: 0.9897 - val_loss: 0.0613\n",
      "Epoch 4/30\n",
      "\u001b[1m8041/8041\u001b[0m \u001b[32m━━━━━━━━━━━━━━━━━━━━\u001b[0m\u001b[37m\u001b[0m \u001b[1m63s\u001b[0m 8ms/step - binary_accuracy: 0.9853 - loss: 0.0741 - val_binary_accuracy: 0.9892 - val_loss: 0.0588\n",
      "Epoch 5/30\n",
      "\u001b[1m8041/8041\u001b[0m \u001b[32m━━━━━━━━━━━━━━━━━━━━\u001b[0m\u001b[37m\u001b[0m \u001b[1m63s\u001b[0m 8ms/step - binary_accuracy: 0.9862 - loss: 0.0690 - val_binary_accuracy: 0.9890 - val_loss: 0.0696\n",
      "Epoch 6/30\n",
      "\u001b[1m8041/8041\u001b[0m \u001b[32m━━━━━━━━━━━━━━━━━━━━\u001b[0m\u001b[37m\u001b[0m \u001b[1m63s\u001b[0m 8ms/step - binary_accuracy: 0.9876 - loss: 0.0634 - val_binary_accuracy: 0.9922 - val_loss: 0.0553\n",
      "Epoch 7/30\n",
      "\u001b[1m8041/8041\u001b[0m \u001b[32m━━━━━━━━━━━━━━━━━━━━\u001b[0m\u001b[37m\u001b[0m \u001b[1m63s\u001b[0m 8ms/step - binary_accuracy: 0.9884 - loss: 0.0602 - val_binary_accuracy: 0.9893 - val_loss: 0.0736\n",
      "Epoch 8/30\n",
      "\u001b[1m8041/8041\u001b[0m \u001b[32m━━━━━━━━━━━━━━━━━━━━\u001b[0m\u001b[37m\u001b[0m \u001b[1m63s\u001b[0m 8ms/step - binary_accuracy: 0.9882 - loss: 0.0594 - val_binary_accuracy: 0.9935 - val_loss: 0.0433\n",
      "Epoch 9/30\n",
      "\u001b[1m8041/8041\u001b[0m \u001b[32m━━━━━━━━━━━━━━━━━━━━\u001b[0m\u001b[37m\u001b[0m \u001b[1m63s\u001b[0m 8ms/step - binary_accuracy: 0.9889 - loss: 0.0581 - val_binary_accuracy: 0.9888 - val_loss: 0.0798\n",
      "Epoch 10/30\n",
      "\u001b[1m8041/8041\u001b[0m \u001b[32m━━━━━━━━━━━━━━━━━━━━\u001b[0m\u001b[37m\u001b[0m \u001b[1m63s\u001b[0m 8ms/step - binary_accuracy: 0.9892 - loss: 0.0569 - val_binary_accuracy: 0.9935 - val_loss: 0.0491\n",
      "Epoch 11/30\n",
      "\u001b[1m8041/8041\u001b[0m \u001b[32m━━━━━━━━━━━━━━━━━━━━\u001b[0m\u001b[37m\u001b[0m \u001b[1m63s\u001b[0m 8ms/step - binary_accuracy: 0.9896 - loss: 0.0549 - val_binary_accuracy: 0.9914 - val_loss: 0.0621\n",
      "Epoch 12/30\n",
      "\u001b[1m8041/8041\u001b[0m \u001b[32m━━━━━━━━━━━━━━━━━━━━\u001b[0m\u001b[37m\u001b[0m \u001b[1m63s\u001b[0m 8ms/step - binary_accuracy: 0.9897 - loss: 0.0546 - val_binary_accuracy: 0.9939 - val_loss: 0.0387\n",
      "Epoch 13/30\n",
      "\u001b[1m8041/8041\u001b[0m \u001b[32m━━━━━━━━━━━━━━━━━━━━\u001b[0m\u001b[37m\u001b[0m \u001b[1m63s\u001b[0m 8ms/step - binary_accuracy: 0.9898 - loss: 0.0532 - val_binary_accuracy: 0.9949 - val_loss: 0.0378\n",
      "Epoch 14/30\n",
      "\u001b[1m8041/8041\u001b[0m \u001b[32m━━━━━━━━━━━━━━━━━━━━\u001b[0m\u001b[37m\u001b[0m \u001b[1m63s\u001b[0m 8ms/step - binary_accuracy: 0.9892 - loss: 0.0539 - val_binary_accuracy: 0.9939 - val_loss: 0.0393\n",
      "Epoch 15/30\n",
      "\u001b[1m8041/8041\u001b[0m \u001b[32m━━━━━━━━━━━━━━━━━━━━\u001b[0m\u001b[37m\u001b[0m \u001b[1m63s\u001b[0m 8ms/step - binary_accuracy: 0.9897 - loss: 0.0530 - val_binary_accuracy: 0.9844 - val_loss: 0.1020\n",
      "Epoch 16/30\n",
      "\u001b[1m8041/8041\u001b[0m \u001b[32m━━━━━━━━━━━━━━━━━━━━\u001b[0m\u001b[37m\u001b[0m \u001b[1m63s\u001b[0m 8ms/step - binary_accuracy: 0.9896 - loss: 0.0530 - val_binary_accuracy: 0.9764 - val_loss: 0.1692\n",
      "Epoch 17/30\n",
      "\u001b[1m8041/8041\u001b[0m \u001b[32m━━━━━━━━━━━━━━━━━━━━\u001b[0m\u001b[37m\u001b[0m \u001b[1m63s\u001b[0m 8ms/step - binary_accuracy: 0.9897 - loss: 0.0518 - val_binary_accuracy: 0.9949 - val_loss: 0.0386\n",
      "Epoch 18/30\n",
      "\u001b[1m8041/8041\u001b[0m \u001b[32m━━━━━━━━━━━━━━━━━━━━\u001b[0m\u001b[37m\u001b[0m \u001b[1m64s\u001b[0m 8ms/step - binary_accuracy: 0.9902 - loss: 0.0502 - val_binary_accuracy: 0.9925 - val_loss: 0.0513\n",
      "Epoch 18: early stopping\n",
      "\u001b[1m4021/4021\u001b[0m \u001b[32m━━━━━━━━━━━━━━━━━━━━\u001b[0m\u001b[37m\u001b[0m \u001b[1m6s\u001b[0m 1ms/step\n",
      "Fold atual: 3\n",
      "Epoch 1/30\n",
      "\u001b[1m8041/8041\u001b[0m \u001b[32m━━━━━━━━━━━━━━━━━━━━\u001b[0m\u001b[37m\u001b[0m \u001b[1m72s\u001b[0m 8ms/step - binary_accuracy: 0.9255 - loss: 0.2804 - val_binary_accuracy: 0.9518 - val_loss: 0.1271\n",
      "Epoch 2/30\n",
      "\u001b[1m8041/8041\u001b[0m \u001b[32m━━━━━━━━━━━━━━━━━━━━\u001b[0m\u001b[37m\u001b[0m \u001b[1m64s\u001b[0m 8ms/step - binary_accuracy: 0.9779 - loss: 0.1041 - val_binary_accuracy: 0.9855 - val_loss: 0.0847\n",
      "Epoch 3/30\n",
      "\u001b[1m8041/8041\u001b[0m \u001b[32m━━━━━━━━━━━━━━━━━━━━\u001b[0m\u001b[37m\u001b[0m \u001b[1m63s\u001b[0m 8ms/step - binary_accuracy: 0.9833 - loss: 0.0833 - val_binary_accuracy: 0.9794 - val_loss: 0.0913\n",
      "Epoch 4/30\n",
      "\u001b[1m8041/8041\u001b[0m \u001b[32m━━━━━━━━━━━━━━━━━━━━\u001b[0m\u001b[37m\u001b[0m \u001b[1m63s\u001b[0m 8ms/step - binary_accuracy: 0.9854 - loss: 0.0743 - val_binary_accuracy: 0.9894 - val_loss: 0.0606\n",
      "Epoch 5/30\n",
      "\u001b[1m8041/8041\u001b[0m \u001b[32m━━━━━━━━━━━━━━━━━━━━\u001b[0m\u001b[37m\u001b[0m \u001b[1m63s\u001b[0m 8ms/step - binary_accuracy: 0.9874 - loss: 0.0671 - val_binary_accuracy: 0.9934 - val_loss: 0.0468\n",
      "Epoch 6/30\n",
      "\u001b[1m8041/8041\u001b[0m \u001b[32m━━━━━━━━━━━━━━━━━━━━\u001b[0m\u001b[37m\u001b[0m \u001b[1m63s\u001b[0m 8ms/step - binary_accuracy: 0.9884 - loss: 0.0617 - val_binary_accuracy: 0.9898 - val_loss: 0.0578\n",
      "Epoch 7/30\n",
      "\u001b[1m8041/8041\u001b[0m \u001b[32m━━━━━━━━━━━━━━━━━━━━\u001b[0m\u001b[37m\u001b[0m \u001b[1m63s\u001b[0m 8ms/step - binary_accuracy: 0.9886 - loss: 0.0605 - val_binary_accuracy: 0.9877 - val_loss: 0.0646\n",
      "Epoch 8/30\n",
      "\u001b[1m8041/8041\u001b[0m \u001b[32m━━━━━━━━━━━━━━━━━━━━\u001b[0m\u001b[37m\u001b[0m \u001b[1m63s\u001b[0m 8ms/step - binary_accuracy: 0.9892 - loss: 0.0573 - val_binary_accuracy: 0.9947 - val_loss: 0.0389\n",
      "Epoch 9/30\n",
      "\u001b[1m8041/8041\u001b[0m \u001b[32m━━━━━━━━━━━━━━━━━━━━\u001b[0m\u001b[37m\u001b[0m \u001b[1m63s\u001b[0m 8ms/step - binary_accuracy: 0.9897 - loss: 0.0544 - val_binary_accuracy: 0.9948 - val_loss: 0.0362\n",
      "Epoch 10/30\n",
      "\u001b[1m8041/8041\u001b[0m \u001b[32m━━━━━━━━━━━━━━━━━━━━\u001b[0m\u001b[37m\u001b[0m \u001b[1m64s\u001b[0m 8ms/step - binary_accuracy: 0.9896 - loss: 0.0540 - val_binary_accuracy: 0.9948 - val_loss: 0.0373\n",
      "Epoch 11/30\n",
      "\u001b[1m8041/8041\u001b[0m \u001b[32m━━━━━━━━━━━━━━━━━━━━\u001b[0m\u001b[37m\u001b[0m \u001b[1m64s\u001b[0m 8ms/step - binary_accuracy: 0.9901 - loss: 0.0523 - val_binary_accuracy: 0.9922 - val_loss: 0.0474\n",
      "Epoch 12/30\n",
      "\u001b[1m8041/8041\u001b[0m \u001b[32m━━━━━━━━━━━━━━━━━━━━\u001b[0m\u001b[37m\u001b[0m \u001b[1m64s\u001b[0m 8ms/step - binary_accuracy: 0.9904 - loss: 0.0521 - val_binary_accuracy: 0.9952 - val_loss: 0.0386\n",
      "Epoch 13/30\n",
      "\u001b[1m8041/8041\u001b[0m \u001b[32m━━━━━━━━━━━━━━━━━━━━\u001b[0m\u001b[37m\u001b[0m \u001b[1m64s\u001b[0m 8ms/step - binary_accuracy: 0.9903 - loss: 0.0506 - val_binary_accuracy: 0.9883 - val_loss: 0.0594\n",
      "Epoch 14/30\n",
      "\u001b[1m8041/8041\u001b[0m \u001b[32m━━━━━━━━━━━━━━━━━━━━\u001b[0m\u001b[37m\u001b[0m \u001b[1m64s\u001b[0m 8ms/step - binary_accuracy: 0.9907 - loss: 0.0489 - val_binary_accuracy: 0.9946 - val_loss: 0.0359\n",
      "Epoch 15/30\n",
      "\u001b[1m8041/8041\u001b[0m \u001b[32m━━━━━━━━━━━━━━━━━━━━\u001b[0m\u001b[37m\u001b[0m \u001b[1m64s\u001b[0m 8ms/step - binary_accuracy: 0.9907 - loss: 0.0490 - val_binary_accuracy: 0.9954 - val_loss: 0.0335\n",
      "Epoch 16/30\n",
      "\u001b[1m8041/8041\u001b[0m \u001b[32m━━━━━━━━━━━━━━━━━━━━\u001b[0m\u001b[37m\u001b[0m \u001b[1m64s\u001b[0m 8ms/step - binary_accuracy: 0.9907 - loss: 0.0490 - val_binary_accuracy: 0.9955 - val_loss: 0.0338\n",
      "Epoch 17/30\n",
      "\u001b[1m8041/8041\u001b[0m \u001b[32m━━━━━━━━━━━━━━━━━━━━\u001b[0m\u001b[37m\u001b[0m \u001b[1m65s\u001b[0m 8ms/step - binary_accuracy: 0.9906 - loss: 0.0487 - val_binary_accuracy: 0.9939 - val_loss: 0.0408\n",
      "Epoch 18/30\n",
      "\u001b[1m8041/8041\u001b[0m \u001b[32m━━━━━━━━━━━━━━━━━━━━\u001b[0m\u001b[37m\u001b[0m \u001b[1m65s\u001b[0m 8ms/step - binary_accuracy: 0.9907 - loss: 0.0481 - val_binary_accuracy: 0.9957 - val_loss: 0.0338\n",
      "Epoch 19/30\n",
      "\u001b[1m8041/8041\u001b[0m \u001b[32m━━━━━━━━━━━━━━━━━━━━\u001b[0m\u001b[37m\u001b[0m \u001b[1m65s\u001b[0m 8ms/step - binary_accuracy: 0.9909 - loss: 0.0469 - val_binary_accuracy: 0.9923 - val_loss: 0.0444\n",
      "Epoch 20/30\n",
      "\u001b[1m8041/8041\u001b[0m \u001b[32m━━━━━━━━━━━━━━━━━━━━\u001b[0m\u001b[37m\u001b[0m \u001b[1m64s\u001b[0m 8ms/step - binary_accuracy: 0.9909 - loss: 0.0475 - val_binary_accuracy: 0.9951 - val_loss: 0.0331\n",
      "Epoch 21/30\n",
      "\u001b[1m8041/8041\u001b[0m \u001b[32m━━━━━━━━━━━━━━━━━━━━\u001b[0m\u001b[37m\u001b[0m \u001b[1m64s\u001b[0m 8ms/step - binary_accuracy: 0.9912 - loss: 0.0470 - val_binary_accuracy: 0.9817 - val_loss: 0.1035\n",
      "Epoch 22/30\n",
      "\u001b[1m8041/8041\u001b[0m \u001b[32m━━━━━━━━━━━━━━━━━━━━\u001b[0m\u001b[37m\u001b[0m \u001b[1m64s\u001b[0m 8ms/step - binary_accuracy: 0.9912 - loss: 0.0464 - val_binary_accuracy: 0.9951 - val_loss: 0.0362\n",
      "Epoch 23/30\n",
      "\u001b[1m8041/8041\u001b[0m \u001b[32m━━━━━━━━━━━━━━━━━━━━\u001b[0m\u001b[37m\u001b[0m \u001b[1m64s\u001b[0m 8ms/step - binary_accuracy: 0.9913 - loss: 0.0461 - val_binary_accuracy: 0.9952 - val_loss: 0.0353\n",
      "Epoch 24/30\n",
      "\u001b[1m8041/8041\u001b[0m \u001b[32m━━━━━━━━━━━━━━━━━━━━\u001b[0m\u001b[37m\u001b[0m \u001b[1m64s\u001b[0m 8ms/step - binary_accuracy: 0.9914 - loss: 0.0459 - val_binary_accuracy: 0.9948 - val_loss: 0.0342\n",
      "Epoch 25/30\n",
      "\u001b[1m8041/8041\u001b[0m \u001b[32m━━━━━━━━━━━━━━━━━━━━\u001b[0m\u001b[37m\u001b[0m \u001b[1m64s\u001b[0m 8ms/step - binary_accuracy: 0.9909 - loss: 0.0465 - val_binary_accuracy: 0.9951 - val_loss: 0.0349\n",
      "Epoch 25: early stopping\n",
      "\u001b[1m4021/4021\u001b[0m \u001b[32m━━━━━━━━━━━━━━━━━━━━\u001b[0m\u001b[37m\u001b[0m \u001b[1m6s\u001b[0m 2ms/step\n",
      "Fold atual: 4\n",
      "Epoch 1/30\n",
      "\u001b[1m8041/8041\u001b[0m \u001b[32m━━━━━━━━━━━━━━━━━━━━\u001b[0m\u001b[37m\u001b[0m \u001b[1m72s\u001b[0m 9ms/step - binary_accuracy: 0.9091 - loss: 0.3223 - val_binary_accuracy: 0.9826 - val_loss: 0.1054\n",
      "Epoch 2/30\n",
      "\u001b[1m8041/8041\u001b[0m \u001b[32m━━━━━━━━━━━━━━━━━━━━\u001b[0m\u001b[37m\u001b[0m \u001b[1m64s\u001b[0m 8ms/step - binary_accuracy: 0.9735 - loss: 0.1198 - val_binary_accuracy: 0.9882 - val_loss: 0.0705\n",
      "Epoch 3/30\n",
      "\u001b[1m8041/8041\u001b[0m \u001b[32m━━━━━━━━━━━━━━━━━━━━\u001b[0m\u001b[37m\u001b[0m \u001b[1m64s\u001b[0m 8ms/step - binary_accuracy: 0.9826 - loss: 0.0854 - val_binary_accuracy: 0.9886 - val_loss: 0.0642\n",
      "Epoch 4/30\n",
      "\u001b[1m8041/8041\u001b[0m \u001b[32m━━━━━━━━━━━━━━━━━━━━\u001b[0m\u001b[37m\u001b[0m \u001b[1m65s\u001b[0m 8ms/step - binary_accuracy: 0.9852 - loss: 0.0751 - val_binary_accuracy: 0.9931 - val_loss: 0.0502\n",
      "Epoch 5/30\n",
      "\u001b[1m8041/8041\u001b[0m \u001b[32m━━━━━━━━━━━━━━━━━━━━\u001b[0m\u001b[37m\u001b[0m \u001b[1m64s\u001b[0m 8ms/step - binary_accuracy: 0.9872 - loss: 0.0681 - val_binary_accuracy: 0.9926 - val_loss: 0.0520\n",
      "Epoch 6/30\n",
      "\u001b[1m8041/8041\u001b[0m \u001b[32m━━━━━━━━━━━━━━━━━━━━\u001b[0m\u001b[37m\u001b[0m \u001b[1m64s\u001b[0m 8ms/step - binary_accuracy: 0.9879 - loss: 0.0630 - val_binary_accuracy: 0.9929 - val_loss: 0.0461\n",
      "Epoch 7/30\n",
      "\u001b[1m8041/8041\u001b[0m \u001b[32m━━━━━━━━━━━━━━━━━━━━\u001b[0m\u001b[37m\u001b[0m \u001b[1m64s\u001b[0m 8ms/step - binary_accuracy: 0.9884 - loss: 0.0601 - val_binary_accuracy: 0.9938 - val_loss: 0.0445\n",
      "Epoch 8/30\n",
      "\u001b[1m8041/8041\u001b[0m \u001b[32m━━━━━━━━━━━━━━━━━━━━\u001b[0m\u001b[37m\u001b[0m \u001b[1m64s\u001b[0m 8ms/step - binary_accuracy: 0.9890 - loss: 0.0575 - val_binary_accuracy: 0.9938 - val_loss: 0.0432\n",
      "Epoch 9/30\n",
      "\u001b[1m8041/8041\u001b[0m \u001b[32m━━━━━━━━━━━━━━━━━━━━\u001b[0m\u001b[37m\u001b[0m \u001b[1m65s\u001b[0m 8ms/step - binary_accuracy: 0.9893 - loss: 0.0561 - val_binary_accuracy: 0.9911 - val_loss: 0.0503\n",
      "Epoch 10/30\n",
      "\u001b[1m8041/8041\u001b[0m \u001b[32m━━━━━━━━━━━━━━━━━━━━\u001b[0m\u001b[37m\u001b[0m \u001b[1m64s\u001b[0m 8ms/step - binary_accuracy: 0.9896 - loss: 0.0549 - val_binary_accuracy: 0.9927 - val_loss: 0.0431\n",
      "Epoch 11/30\n",
      "\u001b[1m8041/8041\u001b[0m \u001b[32m━━━━━━━━━━━━━━━━━━━━\u001b[0m\u001b[37m\u001b[0m \u001b[1m65s\u001b[0m 8ms/step - binary_accuracy: 0.9896 - loss: 0.0533 - val_binary_accuracy: 0.9921 - val_loss: 0.0485\n",
      "Epoch 12/30\n",
      "\u001b[1m8041/8041\u001b[0m \u001b[32m━━━━━━━━━━━━━━━━━━━━\u001b[0m\u001b[37m\u001b[0m \u001b[1m64s\u001b[0m 8ms/step - binary_accuracy: 0.9898 - loss: 0.0530 - val_binary_accuracy: 0.9940 - val_loss: 0.0429\n",
      "Epoch 13/30\n",
      "\u001b[1m8041/8041\u001b[0m \u001b[32m━━━━━━━━━━━━━━━━━━━━\u001b[0m\u001b[37m\u001b[0m \u001b[1m65s\u001b[0m 8ms/step - binary_accuracy: 0.9900 - loss: 0.0524 - val_binary_accuracy: 0.9949 - val_loss: 0.0382\n",
      "Epoch 14/30\n",
      "\u001b[1m8041/8041\u001b[0m \u001b[32m━━━━━━━━━━━━━━━━━━━━\u001b[0m\u001b[37m\u001b[0m \u001b[1m65s\u001b[0m 8ms/step - binary_accuracy: 0.9902 - loss: 0.0512 - val_binary_accuracy: 0.9916 - val_loss: 0.0444\n",
      "Epoch 15/30\n",
      "\u001b[1m8041/8041\u001b[0m \u001b[32m━━━━━━━━━━━━━━━━━━━━\u001b[0m\u001b[37m\u001b[0m \u001b[1m64s\u001b[0m 8ms/step - binary_accuracy: 0.9901 - loss: 0.0501 - val_binary_accuracy: 0.9938 - val_loss: 0.0398\n",
      "Epoch 16/30\n",
      "\u001b[1m8041/8041\u001b[0m \u001b[32m━━━━━━━━━━━━━━━━━━━━\u001b[0m\u001b[37m\u001b[0m \u001b[1m64s\u001b[0m 8ms/step - binary_accuracy: 0.9907 - loss: 0.0486 - val_binary_accuracy: 0.9947 - val_loss: 0.0379\n",
      "Epoch 17/30\n",
      "\u001b[1m8041/8041\u001b[0m \u001b[32m━━━━━━━━━━━━━━━━━━━━\u001b[0m\u001b[37m\u001b[0m \u001b[1m64s\u001b[0m 8ms/step - binary_accuracy: 0.9905 - loss: 0.0489 - val_binary_accuracy: 0.9949 - val_loss: 0.0371\n",
      "Epoch 18/30\n",
      "\u001b[1m8041/8041\u001b[0m \u001b[32m━━━━━━━━━━━━━━━━━━━━\u001b[0m\u001b[37m\u001b[0m \u001b[1m64s\u001b[0m 8ms/step - binary_accuracy: 0.9908 - loss: 0.0481 - val_binary_accuracy: 0.9946 - val_loss: 0.0363\n",
      "Epoch 19/30\n",
      "\u001b[1m8041/8041\u001b[0m \u001b[32m━━━━━━━━━━━━━━━━━━━━\u001b[0m\u001b[37m\u001b[0m \u001b[1m65s\u001b[0m 8ms/step - binary_accuracy: 0.9906 - loss: 0.0481 - val_binary_accuracy: 0.9901 - val_loss: 0.0466\n",
      "Epoch 20/30\n",
      "\u001b[1m8041/8041\u001b[0m \u001b[32m━━━━━━━━━━━━━━━━━━━━\u001b[0m\u001b[37m\u001b[0m \u001b[1m65s\u001b[0m 8ms/step - binary_accuracy: 0.9908 - loss: 0.0472 - val_binary_accuracy: 0.9940 - val_loss: 0.0399\n",
      "Epoch 21/30\n",
      "\u001b[1m8041/8041\u001b[0m \u001b[32m━━━━━━━━━━━━━━━━━━━━\u001b[0m\u001b[37m\u001b[0m \u001b[1m64s\u001b[0m 8ms/step - binary_accuracy: 0.9905 - loss: 0.0474 - val_binary_accuracy: 0.9950 - val_loss: 0.0336\n",
      "Epoch 22/30\n",
      "\u001b[1m8041/8041\u001b[0m \u001b[32m━━━━━━━━━━━━━━━━━━━━\u001b[0m\u001b[37m\u001b[0m \u001b[1m65s\u001b[0m 8ms/step - binary_accuracy: 0.9908 - loss: 0.0469 - val_binary_accuracy: 0.9919 - val_loss: 0.0540\n",
      "Epoch 23/30\n",
      "\u001b[1m8041/8041\u001b[0m \u001b[32m━━━━━━━━━━━━━━━━━━━━\u001b[0m\u001b[37m\u001b[0m \u001b[1m64s\u001b[0m 8ms/step - binary_accuracy: 0.9908 - loss: 0.0459 - val_binary_accuracy: 0.9958 - val_loss: 0.0309\n",
      "Epoch 24/30\n",
      "\u001b[1m8041/8041\u001b[0m \u001b[32m━━━━━━━━━━━━━━━━━━━━\u001b[0m\u001b[37m\u001b[0m \u001b[1m65s\u001b[0m 8ms/step - binary_accuracy: 0.9909 - loss: 0.0450 - val_binary_accuracy: 0.9952 - val_loss: 0.0358\n",
      "Epoch 25/30\n",
      "\u001b[1m8041/8041\u001b[0m \u001b[32m━━━━━━━━━━━━━━━━━━━━\u001b[0m\u001b[37m\u001b[0m \u001b[1m65s\u001b[0m 8ms/step - binary_accuracy: 0.9910 - loss: 0.0462 - val_binary_accuracy: 0.9943 - val_loss: 0.0402\n",
      "Epoch 26/30\n",
      "\u001b[1m8041/8041\u001b[0m \u001b[32m━━━━━━━━━━━━━━━━━━━━\u001b[0m\u001b[37m\u001b[0m \u001b[1m64s\u001b[0m 8ms/step - binary_accuracy: 0.9907 - loss: 0.0465 - val_binary_accuracy: 0.9954 - val_loss: 0.0347\n",
      "Epoch 27/30\n",
      "\u001b[1m8041/8041\u001b[0m \u001b[32m━━━━━━━━━━━━━━━━━━━━\u001b[0m\u001b[37m\u001b[0m \u001b[1m65s\u001b[0m 8ms/step - binary_accuracy: 0.9911 - loss: 0.0452 - val_binary_accuracy: 0.9958 - val_loss: 0.0315\n",
      "Epoch 28/30\n",
      "\u001b[1m8041/8041\u001b[0m \u001b[32m━━━━━━━━━━━━━━━━━━━━\u001b[0m\u001b[37m\u001b[0m \u001b[1m65s\u001b[0m 8ms/step - binary_accuracy: 0.9912 - loss: 0.0445 - val_binary_accuracy: 0.9949 - val_loss: 0.0330\n",
      "Epoch 28: early stopping\n",
      "\u001b[1m4021/4021\u001b[0m \u001b[32m━━━━━━━━━━━━━━━━━━━━\u001b[0m\u001b[37m\u001b[0m \u001b[1m6s\u001b[0m 2ms/step\n",
      "Fold atual: 5\n",
      "Epoch 1/30\n",
      "\u001b[1m8041/8041\u001b[0m \u001b[32m━━━━━━━━━━━━━━━━━━━━\u001b[0m\u001b[37m\u001b[0m \u001b[1m73s\u001b[0m 9ms/step - binary_accuracy: 0.9064 - loss: 0.3210 - val_binary_accuracy: 0.9804 - val_loss: 0.1037\n",
      "Epoch 2/30\n",
      "\u001b[1m8041/8041\u001b[0m \u001b[32m━━━━━━━━━━━━━━━━━━━━\u001b[0m\u001b[37m\u001b[0m \u001b[1m65s\u001b[0m 8ms/step - binary_accuracy: 0.9751 - loss: 0.1036 - val_binary_accuracy: 0.9871 - val_loss: 0.0732\n",
      "Epoch 3/30\n",
      "\u001b[1m8041/8041\u001b[0m \u001b[32m━━━━━━━━━━━━━━━━━━━━\u001b[0m\u001b[37m\u001b[0m \u001b[1m64s\u001b[0m 8ms/step - binary_accuracy: 0.9833 - loss: 0.0798 - val_binary_accuracy: 0.9898 - val_loss: 0.0612\n",
      "Epoch 4/30\n",
      "\u001b[1m8041/8041\u001b[0m \u001b[32m━━━━━━━━━━━━━━━━━━━━\u001b[0m\u001b[37m\u001b[0m \u001b[1m65s\u001b[0m 8ms/step - binary_accuracy: 0.9865 - loss: 0.0688 - val_binary_accuracy: 0.9901 - val_loss: 0.0601\n",
      "Epoch 5/30\n",
      "\u001b[1m8041/8041\u001b[0m \u001b[32m━━━━━━━━━━━━━━━━━━━━\u001b[0m\u001b[37m\u001b[0m \u001b[1m65s\u001b[0m 8ms/step - binary_accuracy: 0.9872 - loss: 0.0640 - val_binary_accuracy: 0.9897 - val_loss: 0.0595\n",
      "Epoch 6/30\n",
      "\u001b[1m8041/8041\u001b[0m \u001b[32m━━━━━━━━━━━━━━━━━━━━\u001b[0m\u001b[37m\u001b[0m \u001b[1m65s\u001b[0m 8ms/step - binary_accuracy: 0.9883 - loss: 0.0594 - val_binary_accuracy: 0.9917 - val_loss: 0.0511\n",
      "Epoch 7/30\n",
      "\u001b[1m8041/8041\u001b[0m \u001b[32m━━━━━━━━━━━━━━━━━━━━\u001b[0m\u001b[37m\u001b[0m \u001b[1m64s\u001b[0m 8ms/step - binary_accuracy: 0.9884 - loss: 0.0569 - val_binary_accuracy: 0.9930 - val_loss: 0.0456\n",
      "Epoch 8/30\n",
      "\u001b[1m8041/8041\u001b[0m \u001b[32m━━━━━━━━━━━━━━━━━━━━\u001b[0m\u001b[37m\u001b[0m \u001b[1m65s\u001b[0m 8ms/step - binary_accuracy: 0.9889 - loss: 0.0547 - val_binary_accuracy: 0.8001 - val_loss: 3.0738\n",
      "Epoch 9/30\n",
      "\u001b[1m8041/8041\u001b[0m \u001b[32m━━━━━━━━━━━━━━━━━━━━\u001b[0m\u001b[37m\u001b[0m \u001b[1m65s\u001b[0m 8ms/step - binary_accuracy: 0.9892 - loss: 0.0541 - val_binary_accuracy: 0.9914 - val_loss: 0.0491\n",
      "Epoch 10/30\n",
      "\u001b[1m8041/8041\u001b[0m \u001b[32m━━━━━━━━━━━━━━━━━━━━\u001b[0m\u001b[37m\u001b[0m \u001b[1m65s\u001b[0m 8ms/step - binary_accuracy: 0.9895 - loss: 0.0532 - val_binary_accuracy: 0.9915 - val_loss: 0.0600\n",
      "Epoch 11/30\n",
      "\u001b[1m8041/8041\u001b[0m \u001b[32m━━━━━━━━━━━━━━━━━━━━\u001b[0m\u001b[37m\u001b[0m \u001b[1m64s\u001b[0m 8ms/step - binary_accuracy: 0.9900 - loss: 0.0519 - val_binary_accuracy: 0.9903 - val_loss: 0.0508\n",
      "Epoch 12/30\n",
      "\u001b[1m8041/8041\u001b[0m \u001b[32m━━━━━━━━━━━━━━━━━━━━\u001b[0m\u001b[37m\u001b[0m \u001b[1m64s\u001b[0m 8ms/step - binary_accuracy: 0.9901 - loss: 0.0503 - val_binary_accuracy: 0.9936 - val_loss: 0.0432\n",
      "Epoch 13/30\n",
      "\u001b[1m8041/8041\u001b[0m \u001b[32m━━━━━━━━━━━━━━━━━━━━\u001b[0m\u001b[37m\u001b[0m \u001b[1m65s\u001b[0m 8ms/step - binary_accuracy: 0.9904 - loss: 0.0490 - val_binary_accuracy: 0.9930 - val_loss: 0.0575\n",
      "Epoch 14/30\n",
      "\u001b[1m8041/8041\u001b[0m \u001b[32m━━━━━━━━━━━━━━━━━━━━\u001b[0m\u001b[37m\u001b[0m \u001b[1m65s\u001b[0m 8ms/step - binary_accuracy: 0.9902 - loss: 0.0492 - val_binary_accuracy: 0.9947 - val_loss: 0.0378\n",
      "Epoch 15/30\n",
      "\u001b[1m8041/8041\u001b[0m \u001b[32m━━━━━━━━━━━━━━━━━━━━\u001b[0m\u001b[37m\u001b[0m \u001b[1m65s\u001b[0m 8ms/step - binary_accuracy: 0.9910 - loss: 0.0474 - val_binary_accuracy: 0.9889 - val_loss: 0.0640\n",
      "Epoch 16/30\n",
      "\u001b[1m8041/8041\u001b[0m \u001b[32m━━━━━━━━━━━━━━━━━━━━\u001b[0m\u001b[37m\u001b[0m \u001b[1m64s\u001b[0m 8ms/step - binary_accuracy: 0.9905 - loss: 0.0477 - val_binary_accuracy: 0.9920 - val_loss: 0.0504\n",
      "Epoch 17/30\n",
      "\u001b[1m8041/8041\u001b[0m \u001b[32m━━━━━━━━━━━━━━━━━━━━\u001b[0m\u001b[37m\u001b[0m \u001b[1m63s\u001b[0m 8ms/step - binary_accuracy: 0.9908 - loss: 0.0470 - val_binary_accuracy: 0.9946 - val_loss: 0.0369\n",
      "Epoch 18/30\n",
      "\u001b[1m8041/8041\u001b[0m \u001b[32m━━━━━━━━━━━━━━━━━━━━\u001b[0m\u001b[37m\u001b[0m \u001b[1m63s\u001b[0m 8ms/step - binary_accuracy: 0.9910 - loss: 0.0462 - val_binary_accuracy: 0.9840 - val_loss: 0.0699\n",
      "Epoch 19/30\n",
      "\u001b[1m8041/8041\u001b[0m \u001b[32m━━━━━━━━━━━━━━━━━━━━\u001b[0m\u001b[37m\u001b[0m \u001b[1m63s\u001b[0m 8ms/step - binary_accuracy: 0.9909 - loss: 0.0461 - val_binary_accuracy: 0.9948 - val_loss: 0.0433\n",
      "Epoch 20/30\n",
      "\u001b[1m8041/8041\u001b[0m \u001b[32m━━━━━━━━━━━━━━━━━━━━\u001b[0m\u001b[37m\u001b[0m \u001b[1m63s\u001b[0m 8ms/step - binary_accuracy: 0.9912 - loss: 0.0459 - val_binary_accuracy: 0.9908 - val_loss: 0.0600\n",
      "Epoch 21/30\n",
      "\u001b[1m8041/8041\u001b[0m \u001b[32m━━━━━━━━━━━━━━━━━━━━\u001b[0m\u001b[37m\u001b[0m \u001b[1m63s\u001b[0m 8ms/step - binary_accuracy: 0.9909 - loss: 0.0464 - val_binary_accuracy: 0.9943 - val_loss: 0.0381\n",
      "Epoch 22/30\n",
      "\u001b[1m8041/8041\u001b[0m \u001b[32m━━━━━━━━━━━━━━━━━━━━\u001b[0m\u001b[37m\u001b[0m \u001b[1m63s\u001b[0m 8ms/step - binary_accuracy: 0.9912 - loss: 0.0453 - val_binary_accuracy: 0.9865 - val_loss: 0.0878\n",
      "Epoch 22: early stopping\n",
      "\u001b[1m4021/4021\u001b[0m \u001b[32m━━━━━━━━━━━━━━━━━━━━\u001b[0m\u001b[37m\u001b[0m \u001b[1m6s\u001b[0m 1ms/step\n"
     ]
    }
   ],
   "source": [
    "# Configuração do Stratified K-Fold e inicialização das listas para armazenar métricas e perdas\n",
    "skf = StratifiedKFold(n_splits=5, random_state=1, shuffle=True)\n",
    "models = []\n",
    "metrics_list = []  # Initialize metrics_list\n",
    "losses = []  # List to store training and validation losses\n",
    "\n",
    "# Loop pelos folds\n",
    "for fold_number, (train_index, val_index) in enumerate(skf.split(x, y)):\n",
    "    print(f\"Fold atual: {fold_number + 1}\")\n",
    "\n",
    "    # Configuração dos callbacks para checkpoint e early stopping\n",
    "    checkpoint = tf.keras.callbacks.ModelCheckpoint(\n",
    "        f\"model_{fold_number}.keras\",\n",
    "        monitor='binary_accuracy',\n",
    "        save_best_only=True,\n",
    "        mode='max'\n",
    "    )\n",
    "    early_stopping = tf.keras.callbacks.EarlyStopping(\n",
    "        monitor=\"val_loss\",\n",
    "        patience=5,\n",
    "        verbose=1\n",
    "    )\n",
    "    callbacks_list = [early_stopping, checkpoint]\n",
    "    \n",
    "    # Treinamento do modelo\n",
    "    model = create_model()\n",
    "    history = model.fit(\n",
    "        x[train_index],\n",
    "        y[train_index],\n",
    "        batch_size=64,\n",
    "        epochs=30,\n",
    "        validation_data=(x[val_index], y[val_index]),\n",
    "        callbacks=callbacks_list\n",
    "    )\n",
    "    \n",
    "    # Armazenamento das perdas de treinamento e validação\n",
    "    losses.append({\n",
    "        \"fold\": fold_number + 1,\n",
    "        \"train_loss\": history.history[\"loss\"],\n",
    "        \"val_loss\": history.history[\"val_loss\"]\n",
    "    })\n",
    "\n",
    "    # Predição e binarização dos resultados\n",
    "    predictions = model.predict(x[val_index])\n",
    "    y_pred = (predictions > 0.5).astype(int)  # Assign to y_pred\n",
    "   \n",
    "    # Armazenamento das métricas de avaliação\n",
    "    report = classification_report(y[val_index], y_pred, output_dict=True)\n",
    "    metrics_dict = {\n",
    "        \"fold\": fold_number + 1,\n",
    "        \"accuracy\": report[\"accuracy\"],\n",
    "        \"precision\": report[\"1\"][\"precision\"],  # Precisão da classe 1\n",
    "        \"recall\": report[\"1\"][\"recall\"],  # Recall da classe 1\n",
    "        \"f1-score\": report[\"1\"][\"f1-score\"],  # F1-score da classe 1\n",
    "        \"roc_auc\": roc_auc_score(y[val_index], y_pred)  # roc_auc da classe 1\n",
    "    }\n",
    "    metrics_list.append(metrics_dict)\n",
    "   \n",
    "    # Limpeza da memória\n",
    "    del model, predictions, y_pred\n",
    "    gc.collect()\n",
    "    tf.keras.backend.clear_session()\n",
    "    \n",
    "# Salvamento das métricas em um arquivo CSV\n",
    "metrics_df = pd.DataFrame(metrics_list)\n",
    "metrics_df.to_csv(\"models_metrics.csv\", index=False)"
   ]
  }
 ],
 "metadata": {
  "accelerator": "GPU",
  "colab": {
   "gpuType": "T4",
   "provenance": []
  },
  "kaggle": {
   "accelerator": "gpu",
   "dataSources": [
    {
     "datasetId": 6904127,
     "sourceId": 11077543,
     "sourceType": "datasetVersion"
    }
   ],
   "dockerImageVersionId": 30919,
   "isGpuEnabled": true,
   "isInternetEnabled": false,
   "language": "python",
   "sourceType": "notebook"
  },
  "kernelspec": {
   "display_name": "Python 3",
   "language": "python",
   "name": "python3"
  },
  "language_info": {
   "codemirror_mode": {
    "name": "ipython",
    "version": 3
   },
   "file_extension": ".py",
   "mimetype": "text/x-python",
   "name": "python",
   "nbconvert_exporter": "python",
   "pygments_lexer": "ipython3",
   "version": "3.10.12"
  },
  "papermill": {
   "default_parameters": {},
   "duration": 6829.627056,
   "end_time": "2025-03-20T05:21:16.937414",
   "environment_variables": {},
   "exception": true,
   "input_path": "__notebook__.ipynb",
   "output_path": "__notebook__.ipynb",
   "parameters": {},
   "start_time": "2025-03-20T03:27:27.310358",
   "version": "2.6.0"
  }
 },
 "nbformat": 4,
 "nbformat_minor": 5
}
