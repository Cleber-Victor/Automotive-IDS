{
 "cells": [
  {
   "cell_type": "code",
   "execution_count": null,
   "metadata": {
    "_cell_guid": "b1076dfc-b9ad-4769-8c92-a6c4dae69d19",
    "_uuid": "8f2839f25d086af736a60e9eeb907d3b93b6e0e5",
    "execution": {
     "iopub.execute_input": "2025-03-27T00:07:50.107647Z",
     "iopub.status.busy": "2025-03-27T00:07:50.107308Z",
     "iopub.status.idle": "2025-03-27T00:07:50.112172Z",
     "shell.execute_reply": "2025-03-27T00:07:50.111323Z",
     "shell.execute_reply.started": "2025-03-27T00:07:50.107617Z"
    },
    "trusted": true
   },
   "outputs": [],
   "source": [
    "# Importação das bibliotecas necessárias para manipulação de dados, visualização e avaliação de modelos\n",
    "import numpy as np\n",
    "import matplotlib.pyplot as plt\n",
    "import gc\n",
    "import pandas as pd\n",
    "from tensorflow.keras.models import load_model\n",
    "from tensorflow.keras import backend as K\n",
    "from sklearn.metrics import precision_score, recall_score, roc_curve, auc\n",
    "import pandas as pd\n",
    "import matplotlib.pyplot as plt\n",
    "import glob\n",
    "import pandas as pd\n",
    "#from tabulate import tabulate\n",
    "from IPython.display import display"
   ]
  },
  {
   "cell_type": "code",
   "execution_count": null,
   "metadata": {
    "execution": {
     "iopub.execute_input": "2025-03-26T23:59:32.267608Z",
     "iopub.status.busy": "2025-03-26T23:59:32.267058Z",
     "iopub.status.idle": "2025-03-26T23:59:32.271193Z",
     "shell.execute_reply": "2025-03-26T23:59:32.270340Z",
     "shell.execute_reply.started": "2025-03-26T23:59:32.267583Z"
    },
    "trusted": true
   },
   "outputs": [],
   "source": [
    "# Caminho para o diretório contendo os dados tratados e os modelos treinados\n",
    "file_path = \"../input/auteth-intrusion-dataset-treated\""
   ]
  },
  {
   "cell_type": "code",
   "execution_count": null,
   "metadata": {
    "execution": {
     "iopub.execute_input": "2025-03-26T23:59:32.272835Z",
     "iopub.status.busy": "2025-03-26T23:59:32.272548Z",
     "iopub.status.idle": "2025-03-26T23:59:49.277415Z",
     "shell.execute_reply": "2025-03-26T23:59:49.276512Z",
     "shell.execute_reply.started": "2025-03-26T23:59:32.272810Z"
    },
    "trusted": true
   },
   "outputs": [],
   "source": [
    "# Carregamento dos dados de teste (X: características, y: rótulos)\n",
    "# Substitua os nomes dos arquivos pelos caminhos corretos, se necessário\n",
    "X = np.load(f'{file_path}/x_outdoor_packets_agg.npz')['arr_0']\n",
    "y = np.load(f'{file_path}/y_outdoor_label_agg.npz')['arr_0']"
   ]
  },
  {
   "cell_type": "code",
   "execution_count": null,
   "metadata": {
    "execution": {
     "iopub.execute_input": "2025-03-26T23:59:58.331794Z",
     "iopub.status.busy": "2025-03-26T23:59:58.331501Z",
     "iopub.status.idle": "2025-03-26T23:59:58.337687Z",
     "shell.execute_reply": "2025-03-26T23:59:58.336827Z",
     "shell.execute_reply.started": "2025-03-26T23:59:58.331770Z"
    },
    "trusted": true
   },
   "outputs": [],
   "source": [
    "# Função para avaliar um modelo específico com base no índice fornecido\n",
    "def avaliacao_modelo(val):\n",
    "    model_index = int(val)\n",
    "    \n",
    "    # Carrega o modelo treinado correspondente ao índice\n",
    "    model = load_model(f'{file_path}/model_{val}.keras')\n",
    "    \n",
    "    # Avalia o modelo nos dados de teste (loss e accuracy)\n",
    "    loss, accuracy = model.evaluate(X, y, verbose=0)\n",
    "    \n",
    "    # Gera predições para os dados de teste\n",
    "    y_pred_prob = model.predict(X)\n",
    "    y_pred = (y_pred_prob > 0.5).astype(int)\n",
    "    \n",
    "    # Calcula métricas de avaliação: precisão e recall\n",
    "    precision = precision_score(y, y_pred)\n",
    "    recall = recall_score(y, y_pred)\n",
    "    \n",
    "    # Calcula a curva ROC e a área sob a curva (AUC)\n",
    "    fpr, tpr, _ = roc_curve(y, y_pred_prob)\n",
    "    roc_auc = auc(fpr, tpr)\n",
    "    \n",
    "    # Salva as métricas em um arquivo CSV para o modelo avaliado\n",
    "    df_metrics = pd.DataFrame([{\n",
    "        'model': model_index,\n",
    "        'loss': loss,\n",
    "        'accuracy': accuracy,\n",
    "        'precision': precision,\n",
    "        'recall': recall,\n",
    "        'auc': roc_auc\n",
    "    }])\n",
    "    df_metrics.to_csv(f'metrics_model_{model_index}.csv', index=False)\n",
    "    \n",
    "    # Salva os dados da curva ROC para uso posterior\n",
    "    df_roc = pd.DataFrame({'fpr': fpr, 'tpr': tpr})\n",
    "    df_roc.to_csv(f'roc_model_{model_index}.csv', index=False)\n",
    "    \n",
    "    print(f\"Modelo {model_index} processado e resultados salvos.\")\n",
    "    \n",
    "    # Libera a memória para evitar problemas de RAM\n",
    "    del model, y_pred, y_pred_prob, fpr, tpr\n",
    "    K.clear_session()\n",
    "    gc.collect()"
   ]
  },
  {
   "cell_type": "code",
   "execution_count": null,
   "metadata": {
    "execution": {
     "iopub.execute_input": "2025-03-26T23:33:12.005084Z",
     "iopub.status.busy": "2025-03-26T23:33:12.004798Z",
     "iopub.status.idle": "2025-03-26T23:37:44.112281Z",
     "shell.execute_reply": "2025-03-26T23:37:44.111360Z",
     "shell.execute_reply.started": "2025-03-26T23:33:12.005062Z"
    },
    "trusted": true
   },
   "outputs": [
    {
     "name": "stdout",
     "output_type": "stream",
     "text": [
      "\u001b[1m58453/58453\u001b[0m \u001b[32m━━━━━━━━━━━━━━━━━━━━\u001b[0m\u001b[37m\u001b[0m \u001b[1m76s\u001b[0m 1ms/step\n",
      "Modelo 0 processado e resultados salvos.\n"
     ]
    }
   ],
   "source": [
    "# Avaliação do modelo 0\n",
    "avaliacao_modelo(0)"
   ]
  },
  {
   "cell_type": "code",
   "execution_count": null,
   "metadata": {
    "execution": {
     "iopub.execute_input": "2025-03-26T23:39:49.071695Z",
     "iopub.status.busy": "2025-03-26T23:39:49.071314Z",
     "iopub.status.idle": "2025-03-26T23:44:23.628982Z",
     "shell.execute_reply": "2025-03-26T23:44:23.628135Z",
     "shell.execute_reply.started": "2025-03-26T23:39:49.071663Z"
    },
    "trusted": true
   },
   "outputs": [
    {
     "name": "stdout",
     "output_type": "stream",
     "text": [
      "\u001b[1m58453/58453\u001b[0m \u001b[32m━━━━━━━━━━━━━━━━━━━━\u001b[0m\u001b[37m\u001b[0m \u001b[1m77s\u001b[0m 1ms/step\n",
      "Modelo 1 processado e resultados salvos.\n"
     ]
    }
   ],
   "source": [
    "# Avaliação do modelo 1\n",
    "avaliacao_modelo(1)"
   ]
  },
  {
   "cell_type": "code",
   "execution_count": null,
   "metadata": {
    "execution": {
     "iopub.execute_input": "2025-03-26T23:46:40.816418Z",
     "iopub.status.busy": "2025-03-26T23:46:40.816071Z",
     "iopub.status.idle": "2025-03-26T23:51:10.412547Z",
     "shell.execute_reply": "2025-03-26T23:51:10.411663Z",
     "shell.execute_reply.started": "2025-03-26T23:46:40.816389Z"
    },
    "trusted": true
   },
   "outputs": [
    {
     "name": "stdout",
     "output_type": "stream",
     "text": [
      "\u001b[1m58453/58453\u001b[0m \u001b[32m━━━━━━━━━━━━━━━━━━━━\u001b[0m\u001b[37m\u001b[0m \u001b[1m75s\u001b[0m 1ms/step\n",
      "Modelo 2 processado e resultados salvos.\n"
     ]
    }
   ],
   "source": [
    "# Avaliação do modelo 2\n",
    "avaliacao_modelo(2)"
   ]
  },
  {
   "cell_type": "code",
   "execution_count": null,
   "metadata": {
    "execution": {
     "iopub.execute_input": "2025-03-26T23:53:37.279923Z",
     "iopub.status.busy": "2025-03-26T23:53:37.279624Z",
     "iopub.status.idle": "2025-03-26T23:58:07.426499Z",
     "shell.execute_reply": "2025-03-26T23:58:07.425752Z",
     "shell.execute_reply.started": "2025-03-26T23:53:37.279900Z"
    },
    "trusted": true
   },
   "outputs": [
    {
     "name": "stdout",
     "output_type": "stream",
     "text": [
      "\u001b[1m58453/58453\u001b[0m \u001b[32m━━━━━━━━━━━━━━━━━━━━\u001b[0m\u001b[37m\u001b[0m \u001b[1m74s\u001b[0m 1ms/step\n",
      "Modelo 3 processado e resultados salvos.\n"
     ]
    }
   ],
   "source": [
    "# Avaliação do modelo 3\n",
    "avaliacao_modelo(3)"
   ]
  },
  {
   "cell_type": "code",
   "execution_count": null,
   "metadata": {
    "execution": {
     "iopub.execute_input": "2025-03-27T00:00:01.798402Z",
     "iopub.status.busy": "2025-03-27T00:00:01.798086Z",
     "iopub.status.idle": "2025-03-27T00:04:31.272744Z",
     "shell.execute_reply": "2025-03-27T00:04:31.271978Z",
     "shell.execute_reply.started": "2025-03-27T00:00:01.798373Z"
    },
    "trusted": true
   },
   "outputs": [
    {
     "name": "stdout",
     "output_type": "stream",
     "text": [
      "\u001b[1m58453/58453\u001b[0m \u001b[32m━━━━━━━━━━━━━━━━━━━━\u001b[0m\u001b[37m\u001b[0m \u001b[1m74s\u001b[0m 1ms/step\n",
      "Modelo 4 processado e resultados salvos.\n"
     ]
    }
   ],
   "source": [
    "# Avaliação do modelo 4\n",
    "avaliacao_modelo(4)"
   ]
  },
  {
   "cell_type": "code",
   "execution_count": null,
   "metadata": {
    "execution": {
     "iopub.execute_input": "2025-03-27T00:07:00.005223Z",
     "iopub.status.busy": "2025-03-27T00:07:00.004836Z",
     "iopub.status.idle": "2025-03-27T00:07:00.615762Z",
     "shell.execute_reply": "2025-03-27T00:07:00.614843Z",
     "shell.execute_reply.started": "2025-03-27T00:07:00.005191Z"
    },
    "trusted": true
   },
   "outputs": [
    {
     "name": "stdout",
     "output_type": "stream",
     "text": [
      "Métricas consolidadas salvas em 'metricas_modelos_final.csv'.\n"
     ]
    },
    {
     "data": {
      "image/png": "[encoded data removed]",
      "text/plain": [
       "<Figure size 800x600 with 1 Axes>"
      ]
     },
     "metadata": {},
     "output_type": "display_data"
    }
   ],
   "source": [
    "# Consolidação das métricas de todos os modelos em um único arquivo CSV\n",
    "metrics_files = glob.glob('metrics_model_*.csv')\n",
    "df_list = [pd.read_csv(f) for f in metrics_files]\n",
    "df_metrics = pd.concat(df_list, ignore_index=True)\n",
    "df_metrics.to_csv('metricas_modelos_final.csv', index=False)\n",
    "print(\"Métricas consolidadas salvas em 'metricas_modelos_final.csv'.\")\n",
    "\n",
    "# Criação do gráfico das curvas ROC para todos os modelos\n",
    "plt.figure(figsize=(8, 6))\n",
    "cores = ['blue', 'green', 'red', 'orange', 'purple']\n",
    "\n",
    "for i in range(5):\n",
    "    roc_file = f'roc_model_{i}.csv'\n",
    "    try:\n",
    "        # Carrega os dados da curva ROC do modelo i\n",
    "        df_roc = pd.read_csv(roc_file)\n",
    "        # Obtém o valor de AUC do DataFrame consolidado\n",
    "        auc_val = df_metrics.loc[df_metrics['model'] == i, 'auc'].values[0]\n",
    "        plt.plot(df_roc['fpr'], df_roc['tpr'], color=cores[i % len(cores)],\n",
    "                 label=f'Modelo {i} (AUC = {auc_val:.4f})')\n",
    "    except FileNotFoundError:\n",
    "        print(f\"Arquivo {roc_file} não encontrado.\")\n",
    "\n",
    "# Configurações finais do gráfico\n",
    "plt.plot([0, 1], [0, 1], 'k--', label='Linha base')\n",
    "plt.xlabel('Taxa de Falsos Positivos')\n",
    "plt.ylabel('Taxa de Verdadeiros Positivos')\n",
    "plt.title('Curva ROC - Todos os Modelos')\n",
    "plt.legend(loc='lower right')\n",
    "plt.show()"
   ]
  },
  {
   "cell_type": "code",
   "execution_count": null,
   "metadata": {
    "execution": {
     "iopub.execute_input": "2025-03-27T00:08:08.927505Z",
     "iopub.status.busy": "2025-03-27T00:08:08.927205Z",
     "iopub.status.idle": "2025-03-27T00:08:08.938787Z",
     "shell.execute_reply": "2025-03-27T00:08:08.938070Z",
     "shell.execute_reply.started": "2025-03-27T00:08:08.927480Z"
    },
    "trusted": true
   },
   "outputs": [
    {
     "data": {
      "text/html": [
       "<div>\n",
       "<style scoped>\n",
       "    .dataframe tbody tr th:only-of-type {\n",
       "        vertical-align: middle;\n",
       "    }\n",
       "\n",
       "    .dataframe tbody tr th {\n",
       "        vertical-align: top;\n",
       "    }\n",
       "\n",
       "    .dataframe thead th {\n",
       "        text-align: right;\n",
       "    }\n",
       "</style>\n",
       "<table border=\"1\" class=\"dataframe\">\n",
       "  <thead>\n",
       "    <tr style=\"text-align: right;\">\n",
       "      <th></th>\n",
       "      <th>model</th>\n",
       "      <th>loss</th>\n",
       "      <th>accuracy</th>\n",
       "      <th>precision</th>\n",
       "      <th>recall</th>\n",
       "      <th>auc</th>\n",
       "    </tr>\n",
       "  </thead>\n",
       "  <tbody>\n",
       "    <tr>\n",
       "      <th>0</th>\n",
       "      <td>1</td>\n",
       "      <td>0.109973</td>\n",
       "      <td>0.991629</td>\n",
       "      <td>0.966234</td>\n",
       "      <td>0.993089</td>\n",
       "      <td>0.997807</td>\n",
       "    </tr>\n",
       "    <tr>\n",
       "      <th>1</th>\n",
       "      <td>3</td>\n",
       "      <td>0.081059</td>\n",
       "      <td>0.992142</td>\n",
       "      <td>0.965631</td>\n",
       "      <td>0.996399</td>\n",
       "      <td>0.997862</td>\n",
       "    </tr>\n",
       "    <tr>\n",
       "      <th>2</th>\n",
       "      <td>2</td>\n",
       "      <td>0.097194</td>\n",
       "      <td>0.990164</td>\n",
       "      <td>0.954829</td>\n",
       "      <td>0.998326</td>\n",
       "      <td>0.998348</td>\n",
       "    </tr>\n",
       "    <tr>\n",
       "      <th>3</th>\n",
       "      <td>0</td>\n",
       "      <td>0.187429</td>\n",
       "      <td>0.984612</td>\n",
       "      <td>0.929957</td>\n",
       "      <td>0.998716</td>\n",
       "      <td>0.997378</td>\n",
       "    </tr>\n",
       "    <tr>\n",
       "      <th>4</th>\n",
       "      <td>4</td>\n",
       "      <td>0.085972</td>\n",
       "      <td>0.992981</td>\n",
       "      <td>0.971187</td>\n",
       "      <td>0.994615</td>\n",
       "      <td>0.996490</td>\n",
       "    </tr>\n",
       "  </tbody>\n",
       "</table>\n",
       "</div>"
      ],
      "text/plain": [
       "   model      loss  accuracy  precision    recall       auc\n",
       "0      1  0.109973  0.991629   0.966234  0.993089  0.997807\n",
       "1      3  0.081059  0.992142   0.965631  0.996399  0.997862\n",
       "2      2  0.097194  0.990164   0.954829  0.998326  0.998348\n",
       "3      0  0.187429  0.984612   0.929957  0.998716  0.997378\n",
       "4      4  0.085972  0.992981   0.971187  0.994615  0.996490"
      ]
     },
     "metadata": {},
     "output_type": "display_data"
    }
   ],
   "source": [
    "# Leitura e exibição do arquivo consolidado de métricas\n",
    "df_metrics = pd.read_csv('metricas_modelos_final.csv')\n",
    "display(df_metrics)"
   ]
  }
 ],
 "metadata": {
  "kaggle": {
   "accelerator": "gpu",
   "dataSources": [
    {
     "databundleVersionId": 11580341,
     "datasetId": 6904127,
     "sourceId": 11178677,
     "sourceType": "datasetVersion"
    }
   ],
   "dockerImageVersionId": 30919,
   "isGpuEnabled": true,
   "isInternetEnabled": true,
   "language": "python",
   "sourceType": "notebook"
  },
  "kernelspec": {
   "display_name": "Python 3",
   "language": "python",
   "name": "python3"
  },
  "language_info": {
   "codemirror_mode": {
    "name": "ipython",
    "version": 3
   },
   "file_extension": ".py",
   "mimetype": "text/x-python",
   "name": "python",
   "nbconvert_exporter": "python",
   "pygments_lexer": "ipython3",
   "version": "3.10.12"
  }
 },
 "nbformat": 4,
 "nbformat_minor": 4
}
