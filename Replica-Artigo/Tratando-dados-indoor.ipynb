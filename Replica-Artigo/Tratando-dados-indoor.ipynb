{
  "cells": [
    {
      "cell_type": "markdown",
      "metadata": {
        "id": "Jh1UtVe2dIFl"
      },
      "source": [
        "## Import das bibliotecas e do Data Set do Artigo\n",
        "Nesta seção, importamos as bibliotecas necessárias e montamos o Google Drive para acessar o dataset."
      ]
    },
    {
      "cell_type": "code",
      "execution_count": 1,
      "metadata": {
        "colab": {
          "base_uri": "https://localhost:8080/"
        },
        "collapsed": true,
        "id": "jtEJFCa_VnR5",
        "outputId": "0bf3a895-2923-4574-b201-cb961a02f21c"
      },
      "outputs": [
        {
          "name": "stdout",
          "output_type": "stream",
          "text": [
            "Collecting scapy\n",
            "  Downloading scapy-2.6.1-py3-none-any.whl.metadata (5.6 kB)\n",
            "Requirement already satisfied: pandas in /usr/local/lib/python3.11/dist-packages (2.2.2)\n",
            "Requirement already satisfied: numpy>=1.23.2 in /usr/local/lib/python3.11/dist-packages (from pandas) (2.0.2)\n",
            "Requirement already satisfied: python-dateutil>=2.8.2 in /usr/local/lib/python3.11/dist-packages (from pandas) (2.8.2)\n",
            "Requirement already satisfied: pytz>=2020.1 in /usr/local/lib/python3.11/dist-packages (from pandas) (2025.1)\n",
            "Requirement already satisfied: tzdata>=2022.7 in /usr/local/lib/python3.11/dist-packages (from pandas) (2025.1)\n",
            "Requirement already satisfied: six>=1.5 in /usr/local/lib/python3.11/dist-packages (from python-dateutil>=2.8.2->pandas) (1.17.0)\n",
            "Downloading scapy-2.6.1-py3-none-any.whl (2.4 MB)\n",
            "\u001b[2K   \u001b[90m━━━━━━━━━━━━━━━━━━━━━━━━━━━━━━━━━━━━━━━━\u001b[0m \u001b[32m2.4/2.4 MB\u001b[0m \u001b[31m18.5 MB/s\u001b[0m eta \u001b[36m0:00:00\u001b[0m\n",
            "\u001b[?25hInstalling collected packages: scapy\n",
            "Successfully installed scapy-2.6.1\n"
          ]
        }
      ],
      "source": [
        "!pip install scapy pandas"
      ]
    },
    {
      "cell_type": "code",
      "execution_count": 2,
      "metadata": {
        "id": "AE058Wlwct2D"
      },
      "outputs": [],
      "source": [
        "from google.colab import drive\n",
        "from scapy.all import *\n",
        "import pandas as pd\n",
        "import numpy as np\n",
        "import matplotlib.pyplot as plt"
      ]
    },
    {
      "cell_type": "markdown",
      "metadata": {
        "id": "pgTXVSOglkkb"
      },
      "source": [
        "Conectando ao Google Drive para acessar os arquivos do dataset."
      ]
    },
    {
      "cell_type": "code",
      "execution_count": 3,
      "metadata": {
        "colab": {
          "base_uri": "https://localhost:8080/"
        },
        "id": "OvD13Ublc-X2",
        "outputId": "ef33a8b0-1ba2-4e9c-c188-4ea46994a97d"
      },
      "outputs": [
        {
          "name": "stdout",
          "output_type": "stream",
          "text": [
            "Mounted at /content/drive\n"
          ]
        }
      ],
      "source": [
        "drive.mount('/content/drive')"
      ]
    },
    {
      "cell_type": "code",
      "execution_count": 4,
      "metadata": {
        "id": "4ny5taNZdWuG"
      },
      "outputs": [],
      "source": [
        "file_path = '/content/drive/My Drive/autoeth-intrusion-dataset'"
      ]
    },
    {
      "cell_type": "markdown",
      "metadata": {
        "id": "_C3cz4OjlyYn"
      },
      "source": [
        "## Processamento dos dados do Data Set\n",
        "Nesta seção, definimos constantes e funções para processar os dados do dataset."
      ]
    },
    {
      "cell_type": "markdown",
      "metadata": {
        "id": "6FYsFFywnc6C"
      },
      "source": [
        "### Constantes\n",
        "Definimos algumas variáveis constantes que serão utilizadas no processamento dos dados."
      ]
    },
    {
      "cell_type": "markdown",
      "metadata": {
        "id": "pWFhiByvmP4Z"
      },
      "source": [
        "Para o processamento dos dados, vamos estabalecer algumas variáveis constantes:"
      ]
    },
    {
      "cell_type": "code",
      "execution_count": 5,
      "metadata": {
        "id": "oHnwYQXTmZyE"
      },
      "outputs": [],
      "source": [
        "avtp_pkt_sz = 438                      #tamanho do pacote AVTP\n",
        "window_sz = 44                         #tamanho de janela ideal indicado pelo artigo\n",
        "num_bytes_observados = 58              #apenas os 58 primeiros bytes do pacote serao observados\n",
        "num_colunas = num_bytes_observados * 2 #segundo o artigo, uma feature eh representada por meio byte (ou um nibble)"
      ]
    },
    {
      "cell_type": "markdown",
      "metadata": {
        "id": "4Ab_UWsAl_mn"
      },
      "source": [
        "### Funções utilizadas para a leitura\n",
        "Definimos funções para transformar pacotes em arrays numpy, selecionar bytes relevantes, calcular variações e gerar features."
      ]
    },
    {
      "cell_type": "code",
      "execution_count": null,
      "metadata": {
        "id": "SpMXLbBtlXSr"
      },
      "outputs": [],
      "source": [
        "import numpy as np\n",
        "\n",
        "# Transforma os pacotes em um array numpy\n",
        "def pcap_to_npArr(raw_pkts):\n",
        "  packets_list = [np.frombuffer(raw(packet), dtype='uint8') for packet in raw_pkts if len(raw(packet))==438]\n",
        "\n",
        "  # Filtra pacotes com o tamanho correto (438 bytes)\n",
        "  pkts_array = np.array(packets_list, dtype=object)\n",
        "\n",
        "  return pkts_array"
      ]
    },
    {
      "cell_type": "code",
      "execution_count": null,
      "metadata": {
        "id": "E9vMuAXB36gQ"
      },
      "outputs": [],
      "source": [
        "# Captura os primeiros 58 bytes dos pacotes\n",
        "def select_bytes(packets, start_byte=0, end_byte=58):\n",
        "   return np.array(packets[:,start_byte:end_byte], dtype='uint8')\n",
        "\n",
        "# Calcula as variações dos bytes dos pacotes\n",
        "def get_variations_mod(packets):\n",
        "  variations = np.diff(packets, axis=0).astype(np.int16)\n",
        "  variations_mod = np.mod(variations, 256)\n",
        "  return np.array(variations_mod, dtype='uint8')\n",
        "\n",
        "# Divide um byte em dois nibbles\n",
        "def split_nibbles(byte):\n",
        "    low_nibble = byte & 0xf\n",
        "    high_nibble = (byte>>4) & 0xf\n",
        "    return [high_nibble, low_nibble]"
      ]
    },
    {
      "cell_type": "code",
      "execution_count": null,
      "metadata": {
        "id": "jOYe8JbO8_4i"
      },
      "outputs": [],
      "source": [
        "# Gera features a partir dos pacotes\n",
        "def generate_features(packets):\n",
        "   relevant_bytes = select_bytes(packets)\n",
        "   byte_variations = get_variations_mod(relevant_bytes)\n",
        "   features = []\n",
        "   for variation_row in byte_variations:\n",
        "      feature_row = []\n",
        "      for byte_variation in variation_row:\n",
        "        feature_row.extend(split_nibbles(byte_variation))\n",
        "      features.append(feature_row)\n",
        "   return np.array(features, dtype = 'uint8')"
      ]
    },
    {
      "cell_type": "code",
      "execution_count": null,
      "metadata": {
        "id": "s5GuoUPHTPYu"
      },
      "outputs": [],
      "source": [
        "# Verifica as janelas de pacotes e seus rótulos\n",
        "def check_windows(pkts, labels):\n",
        "  ansX, anxY = [], []\n",
        "\n",
        "  for i in range(0, len(pkts) - window_sz + 1, 1):\n",
        "    ansX.append(pkts[i:i+window_sz])\n",
        "    anxY.append(labels[i+window_sz-1])\n",
        "\n",
        "  return np.array(ansX), np.array(anxY)\n"
      ]
    },
    {
      "cell_type": "markdown",
      "metadata": {
        "id": "3bwRX2OoxcE6"
      },
      "source": [
        "### Tratamento da base de dados\n",
        "Nesta seção, carregamos os pacotes do dataset, geramos as features e rotulamos os dados."
      ]
    },
    {
      "cell_type": "code",
      "execution_count": null,
      "metadata": {
        "colab": {
          "base_uri": "https://localhost:8080/"
        },
        "id": "G2BIUYzoqCJi",
        "outputId": "08851de8-6fc8-4034-b652-0ff5d7d8d13f"
      },
      "outputs": [
        {
          "name": "stdout",
          "output_type": "stream",
          "text": [
            "[[145 224 240 ... 64 156 185]\n",
            " [145 224 240 ... 196 64 43]\n",
            " [145 224 240 ... 54 80 127]\n",
            " ...\n",
            " [145 224 240 ... 247 227 163]\n",
            " [145 224 240 ... 38 137 196]\n",
            " [145 224 240 ... 226 207 242]]\n"
          ]
        }
      ],
      "source": [
        "# Carrega os pacotes de replay\n",
        "replay_frames = f'{file_path}/single-MPEG-frame.pcap'\n",
        "pkt_list_replay_raw = rdpcap(replay_frames)\n",
        "pkt_list_replay = pcap_to_npArr(pkt_list_replay_raw)\n",
        "print(pkt_list_replay)"
      ]
    },
    {
      "cell_type": "code",
      "execution_count": null,
      "metadata": {
        "id": "b2D3jmevtj_7"
      },
      "outputs": [],
      "source": [
        "# Define os caminhos dos arquivos de pacotes benignos e maliciosos\n",
        "benign_indoors_paths = [f'{file_path}/indoors_01_original.pcap', f'{file_path}/indoors_02_original.pcap']\n",
        "benign_outdoor_paths = [f'{file_path}/driving_01_original.pcap', f'{file_path}/driving_02_original.pcap']\n",
        "malicious_indoors_paths = [f'{file_path}/indoors_01_injected.pcap', f'{file_path}/indoors_02_injected.pcap']\n",
        "malicious_outdoor_paths = [f'{file_path}/driving_01_injected.pcap', f'{file_path}/driving_02_injected.pcap']"
      ]
    },
    {
      "cell_type": "code",
      "execution_count": null,
      "metadata": {
        "id": "4qxa0yfJx0fS"
      },
      "outputs": [],
      "source": [
        "# Inicializa arrays para armazenar os dados e rótulos\n",
        "x = np.empty(shape=(0, window_sz, num_colunas), dtype='uint8')\n",
        "y = np.array([], dtype='uint8')\n",
        "\n",
        "# Processa os pacotes maliciosos internos\n",
        "for path in malicious_indoors_paths:\n",
        "  pkt_list = rdpcap(path)\n",
        "  pkt_list_arr = pcap_to_npArr(pkt_list)\n",
        "  pp_pkt_list_arr = generate_features(pkt_list_arr)\n",
        "\n",
        "  labels_list = []\n",
        "\n",
        "  # Rotula os pacotes\n",
        "  for pkt in pkt_list_arr:\n",
        "    if(np.any(np.all(pkt == pkt_list_replay, axis=1))):\n",
        "      labels_list.append(1)\n",
        "    else:\n",
        "      labels_list.append(0)\n",
        "\n",
        "  labels_arr = np.array(labels_list, dtype='uint8')\n",
        "\n",
        "  # Verifica as janelas de pacotes e seus rótulos\n",
        "  x_aux, y_aux = check_windows(pp_pkt_list_arr, labels_arr)\n",
        "  x = np.append(x, x_aux, axis=0)\n",
        "  y = np.append(y, y_aux, axis=0)\n"
      ]
    },
    {
      "cell_type": "code",
      "execution_count": null,
      "metadata": {
        "colab": {
          "base_uri": "https://localhost:8080/"
        },
        "id": "Q3r2NR74VOF1",
        "outputId": "4fa57817-180a-49e6-ef42-5b697e632308"
      },
      "outputs": [
        {
          "name": "stdout",
          "output_type": "stream",
          "text": [
            "Dindoors has 446374 bening Xis and 196892 injected Xis\n"
          ]
        }
      ],
      "source": [
        "# Verifica se o dataset foi rotulado corretamente\n",
        "\n",
        "indoors_unique, indoors_counts = np.unique(np.array(y), return_counts=True)\n",
        "\n",
        "# Dindoors tem 446,374 pacotes benignos e 196,892 pacotes injetados [Informação do artigo]\n",
        "print(f\"Dindoors has {indoors_counts[0]} bening Xis and {indoors_counts[1]} injected Xis\")"
      ]
    },
    {
      "cell_type": "code",
      "execution_count": null,
      "metadata": {
        "id": "J6oUpBhncSxB"
      },
      "outputs": [],
      "source": [
        "# Salva os dados processados em arquivos comprimidos\n",
        "np.savez_compressed(f\"{file_path}/x_indoors_packets_agg.npz\", x)\n",
        "np.savez_compressed(f\"{file_path}/y_indoor_label_agg.npz\", y)"
      ]
    }
  ],
  "metadata": {
    "colab": {
      "collapsed_sections": [
        "eFFw1mGYVxdf",
        "V2EZfqQcxPiX"
      ],
      "provenance": []
    },
    "kernelspec": {
      "display_name": "Python 3",
      "name": "python3"
    },
    "language_info": {
      "name": "python"
    }
  },
  "nbformat": 4,
  "nbformat_minor": 0
}
