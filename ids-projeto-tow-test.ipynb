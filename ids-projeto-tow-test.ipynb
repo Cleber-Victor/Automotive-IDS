{
 "cells": [
  {
   "cell_type": "markdown",
   "id": "c689851f",
   "metadata": {},
   "source": [
    "# Install and imports"
   ]
  },
  {
   "cell_type": "code",
   "execution_count": 1,
   "id": "17e5df59",
   "metadata": {
    "_cell_guid": "b1076dfc-b9ad-4769-8c92-a6c4dae69d19",
    "_uuid": "8f2839f25d086af736a60e9eeb907d3b93b6e0e5",
    "execution": {
     "iopub.execute_input": "2025-03-27T04:30:05.517911Z",
     "iopub.status.busy": "2025-03-27T04:30:05.517582Z",
     "iopub.status.idle": "2025-03-27T04:30:20.717660Z",
     "shell.execute_reply": "2025-03-27T04:30:20.716989Z"
    },
    "papermill": {
     "duration": 15.207015,
     "end_time": "2025-03-27T04:30:20.719163",
     "exception": false,
     "start_time": "2025-03-27T04:30:05.512148",
     "status": "completed"
    },
    "tags": []
   },
   "outputs": [],
   "source": [
    "import numpy as np\n",
    "import matplotlib.pyplot as plt\n",
    "import gc\n",
    "import pandas as pd\n",
    "from tensorflow.keras.models import load_model\n",
    "from tensorflow.keras import backend as K\n",
    "from sklearn.metrics import precision_score, recall_score, roc_curve, auc\n",
    "import pandas as pd\n",
    "import matplotlib.pyplot as plt\n",
    "import glob\n",
    "import pandas as pd\n",
    "#from tabulate import tabulate\n",
    "from IPython.display import display"
   ]
  },
  {
   "cell_type": "markdown",
   "id": "ac7a6bbb",
   "metadata": {},
   "source": [
    "# Reading the data"
   ]
  },
  {
   "cell_type": "code",
   "execution_count": 2,
   "id": "4d7b0ee9",
   "metadata": {
    "execution": {
     "iopub.execute_input": "2025-03-27T04:30:20.726132Z",
     "iopub.status.busy": "2025-03-27T04:30:20.725666Z",
     "iopub.status.idle": "2025-03-27T04:30:20.728980Z",
     "shell.execute_reply": "2025-03-27T04:30:20.728328Z"
    },
    "papermill": {
     "duration": 0.007812,
     "end_time": "2025-03-27T04:30:20.730159",
     "exception": false,
     "start_time": "2025-03-27T04:30:20.722347",
     "status": "completed"
    },
    "tags": []
   },
   "outputs": [],
   "source": [
    "input_file_path = \"/kaggle/input/tow-ids/\""
   ]
  },
  {
   "cell_type": "code",
   "execution_count": 3,
   "id": "bd89d21d",
   "metadata": {
    "execution": {
     "iopub.execute_input": "2025-03-27T04:30:20.736132Z",
     "iopub.status.busy": "2025-03-27T04:30:20.735925Z",
     "iopub.status.idle": "2025-03-27T04:30:45.808699Z",
     "shell.execute_reply": "2025-03-27T04:30:45.808006Z"
    },
    "papermill": {
     "duration": 25.077527,
     "end_time": "2025-03-27T04:30:45.810258",
     "exception": false,
     "start_time": "2025-03-27T04:30:20.732731",
     "status": "completed"
    },
    "tags": []
   },
   "outputs": [],
   "source": [
    "# Carregue seus dados (substitua 'X.npy' e 'y.npy' pelo caminho dos seus arquivos)\n",
    "y = pd.read_csv(f\"{input_file_path}/y_test_TOW_IDS_dataset_one_class_Wsize_44_Cols_116_Wslide_1_MC_False_sumX_False.csv\")\n",
    "y = y['Class'].values\n",
    "\n",
    "X = np.load(f\"{input_file_path}/X_test_TOW_IDS_dataset_one_class_Wsize_44_Cols_116_Wslide_1_MC_False_sumX_False-001.npz\")\n",
    "X = X['arr_0']"
   ]
  },
  {
   "cell_type": "code",
   "execution_count": 4,
   "id": "f6d20c4f",
   "metadata": {
    "execution": {
     "iopub.execute_input": "2025-03-27T04:30:45.816706Z",
     "iopub.status.busy": "2025-03-27T04:30:45.816485Z",
     "iopub.status.idle": "2025-03-27T04:30:45.821418Z",
     "shell.execute_reply": "2025-03-27T04:30:45.820822Z"
    },
    "papermill": {
     "duration": 0.009201,
     "end_time": "2025-03-27T04:30:45.822540",
     "exception": false,
     "start_time": "2025-03-27T04:30:45.813339",
     "status": "completed"
    },
    "tags": []
   },
   "outputs": [
    {
     "data": {
      "text/plain": [
       "((791566, 44, 116), (791566,))"
      ]
     },
     "execution_count": 4,
     "metadata": {},
     "output_type": "execute_result"
    }
   ],
   "source": [
    "X.shape, y.shape"
   ]
  },
  {
   "cell_type": "markdown",
   "id": "64224a11",
   "metadata": {},
   "source": [
    "# Evaluation function"
   ]
  },
  {
   "cell_type": "code",
   "execution_count": 5,
   "id": "9e2e9087",
   "metadata": {
    "execution": {
     "iopub.execute_input": "2025-03-27T04:30:45.828786Z",
     "iopub.status.busy": "2025-03-27T04:30:45.828553Z",
     "iopub.status.idle": "2025-03-27T04:30:45.833782Z",
     "shell.execute_reply": "2025-03-27T04:30:45.833194Z"
    },
    "papermill": {
     "duration": 0.009636,
     "end_time": "2025-03-27T04:30:45.834975",
     "exception": false,
     "start_time": "2025-03-27T04:30:45.825339",
     "status": "completed"
    },
    "tags": []
   },
   "outputs": [],
   "source": [
    "def avaliacao_modelo(file_path, val):\n",
    "    model_index = int(val)\n",
    "    \n",
    "    # Carrega o modelo\n",
    "    model = load_model(f'{file_path}/model_{val}.keras')\n",
    "    \n",
    "    # Avalia loss e accuracy\n",
    "    loss, accuracy = model.evaluate(X, y, verbose=0)\n",
    "    \n",
    "    # Gera as predições com um batch_size reduzido\n",
    "    y_pred_prob = model.predict(X)\n",
    "    y_pred = (y_pred_prob > 0.5).astype(int)\n",
    "    \n",
    "    # Calcula precision e recall\n",
    "    precision = precision_score(y, y_pred)\n",
    "    recall = recall_score(y, y_pred)\n",
    "    \n",
    "    # Calcula a curva ROC e a AUC\n",
    "    fpr, tpr, _ = roc_curve(y, y_pred_prob)\n",
    "    roc_auc = auc(fpr, tpr)\n",
    "    \n",
    "    # Salva as métricas em um CSV (um por modelo)\n",
    "    df_metrics = pd.DataFrame([{\n",
    "        'model': model_index,\n",
    "        'loss': loss,\n",
    "        'accuracy': accuracy,\n",
    "        'precision': precision,\n",
    "        'recall': recall,\n",
    "        'auc': roc_auc\n",
    "    }])\n",
    "    df_metrics.to_csv(f'metrics_model_{model_index}.csv', index=False)\n",
    "    \n",
    "    # Salva os dados da curva ROC para plotagem futura\n",
    "    df_roc = pd.DataFrame({'fpr': fpr, 'tpr': tpr})\n",
    "    df_roc.to_csv(f'roc_model_{model_index}.csv', index=False)\n",
    "    \n",
    "    print(f\"Modelo {model_index} processado e resultados salvos.\")\n",
    "    \n",
    "    # Libera a memória\n",
    "    del model, y_pred, y_pred_prob, fpr, tpr\n",
    "    K.clear_session()\n",
    "    gc.collect()"
   ]
  },
  {
   "cell_type": "markdown",
   "id": "9c2e3c96",
   "metadata": {},
   "source": [
    "# Performing the evaluation for each fold"
   ]
  },
  {
   "cell_type": "code",
   "execution_count": 6,
   "id": "d5310a93",
   "metadata": {
    "execution": {
     "iopub.execute_input": "2025-03-27T04:30:45.840941Z",
     "iopub.status.busy": "2025-03-27T04:30:45.840689Z",
     "iopub.status.idle": "2025-03-27T04:30:45.843946Z",
     "shell.execute_reply": "2025-03-27T04:30:45.843344Z"
    },
    "papermill": {
     "duration": 0.007438,
     "end_time": "2025-03-27T04:30:45.845043",
     "exception": false,
     "start_time": "2025-03-27T04:30:45.837605",
     "status": "completed"
    },
    "tags": []
   },
   "outputs": [],
   "source": [
    "model_folder_path = \"/kaggle/input/5-fold_tow_ids_one_class_w44_116/keras/default/1/\""
   ]
  },
  {
   "cell_type": "code",
   "execution_count": 7,
   "id": "1c503446",
   "metadata": {
    "execution": {
     "iopub.execute_input": "2025-03-27T04:30:45.850959Z",
     "iopub.status.busy": "2025-03-27T04:30:45.850745Z",
     "iopub.status.idle": "2025-03-27T04:32:53.789676Z",
     "shell.execute_reply": "2025-03-27T04:32:53.788715Z"
    },
    "papermill": {
     "duration": 127.943741,
     "end_time": "2025-03-27T04:32:53.791406",
     "exception": false,
     "start_time": "2025-03-27T04:30:45.847665",
     "status": "completed"
    },
    "tags": []
   },
   "outputs": [
    {
     "name": "stdout",
     "output_type": "stream",
     "text": [
      "\u001b[1m24737/24737\u001b[0m \u001b[32m━━━━━━━━━━━━━━━━━━━━\u001b[0m\u001b[37m\u001b[0m \u001b[1m34s\u001b[0m 1ms/step\n",
      "Modelo 0 processado e resultados salvos.\n"
     ]
    }
   ],
   "source": [
    "avaliacao_modelo(model_folder_path, 0)"
   ]
  },
  {
   "cell_type": "code",
   "execution_count": 8,
   "id": "eb8a59e1",
   "metadata": {
    "execution": {
     "iopub.execute_input": "2025-03-27T04:32:53.861875Z",
     "iopub.status.busy": "2025-03-27T04:32:53.861505Z",
     "iopub.status.idle": "2025-03-27T04:34:57.524003Z",
     "shell.execute_reply": "2025-03-27T04:34:57.523243Z"
    },
    "papermill": {
     "duration": 123.700059,
     "end_time": "2025-03-27T04:34:57.525618",
     "exception": false,
     "start_time": "2025-03-27T04:32:53.825559",
     "status": "completed"
    },
    "tags": []
   },
   "outputs": [
    {
     "name": "stdout",
     "output_type": "stream",
     "text": [
      "\u001b[1m24737/24737\u001b[0m \u001b[32m━━━━━━━━━━━━━━━━━━━━\u001b[0m\u001b[37m\u001b[0m \u001b[1m35s\u001b[0m 1ms/step\n",
      "Modelo 1 processado e resultados salvos.\n"
     ]
    }
   ],
   "source": [
    "avaliacao_modelo(model_folder_path, 1)"
   ]
  },
  {
   "cell_type": "code",
   "execution_count": 9,
   "id": "cc2a58bd",
   "metadata": {
    "execution": {
     "iopub.execute_input": "2025-03-27T04:34:57.655233Z",
     "iopub.status.busy": "2025-03-27T04:34:57.654911Z",
     "iopub.status.idle": "2025-03-27T04:37:01.804022Z",
     "shell.execute_reply": "2025-03-27T04:37:01.803200Z"
    },
    "papermill": {
     "duration": 124.21623,
     "end_time": "2025-03-27T04:37:01.805425",
     "exception": false,
     "start_time": "2025-03-27T04:34:57.589195",
     "status": "completed"
    },
    "tags": []
   },
   "outputs": [
    {
     "name": "stdout",
     "output_type": "stream",
     "text": [
      "\u001b[1m24737/24737\u001b[0m \u001b[32m━━━━━━━━━━━━━━━━━━━━\u001b[0m\u001b[37m\u001b[0m \u001b[1m35s\u001b[0m 1ms/step\n",
      "Modelo 2 processado e resultados salvos.\n"
     ]
    }
   ],
   "source": [
    "avaliacao_modelo(model_folder_path, 2)"
   ]
  },
  {
   "cell_type": "code",
   "execution_count": 10,
   "id": "49f45ff3",
   "metadata": {
    "execution": {
     "iopub.execute_input": "2025-03-27T04:37:02.041830Z",
     "iopub.status.busy": "2025-03-27T04:37:02.041477Z",
     "iopub.status.idle": "2025-03-27T04:39:05.948495Z",
     "shell.execute_reply": "2025-03-27T04:39:05.947503Z"
    },
    "papermill": {
     "duration": 124.050883,
     "end_time": "2025-03-27T04:39:05.950128",
     "exception": false,
     "start_time": "2025-03-27T04:37:01.899245",
     "status": "completed"
    },
    "tags": []
   },
   "outputs": [
    {
     "name": "stdout",
     "output_type": "stream",
     "text": [
      "\u001b[1m24737/24737\u001b[0m \u001b[32m━━━━━━━━━━━━━━━━━━━━\u001b[0m\u001b[37m\u001b[0m \u001b[1m35s\u001b[0m 1ms/step\n",
      "Modelo 3 processado e resultados salvos.\n"
     ]
    }
   ],
   "source": [
    "avaliacao_modelo(model_folder_path, 3)"
   ]
  },
  {
   "cell_type": "code",
   "execution_count": 11,
   "id": "e19809d1",
   "metadata": {
    "execution": {
     "iopub.execute_input": "2025-03-27T04:39:06.207596Z",
     "iopub.status.busy": "2025-03-27T04:39:06.207249Z",
     "iopub.status.idle": "2025-03-27T04:41:09.815272Z",
     "shell.execute_reply": "2025-03-27T04:41:09.814291Z"
    },
    "papermill": {
     "duration": 123.739089,
     "end_time": "2025-03-27T04:41:09.816590",
     "exception": false,
     "start_time": "2025-03-27T04:39:06.077501",
     "status": "completed"
    },
    "tags": []
   },
   "outputs": [
    {
     "name": "stdout",
     "output_type": "stream",
     "text": [
      "\u001b[1m24737/24737\u001b[0m \u001b[32m━━━━━━━━━━━━━━━━━━━━\u001b[0m\u001b[37m\u001b[0m \u001b[1m34s\u001b[0m 1ms/step\n",
      "Modelo 4 processado e resultados salvos.\n"
     ]
    }
   ],
   "source": [
    "avaliacao_modelo(model_folder_path, 4)"
   ]
  },
  {
   "cell_type": "markdown",
   "id": "d4fe5a73",
   "metadata": {},
   "source": [
    "# Plotting and printing metrics"
   ]
  },
  {
   "cell_type": "code",
   "execution_count": 12,
   "id": "53e0b613",
   "metadata": {
    "execution": {
     "iopub.execute_input": "2025-03-27T04:41:10.133260Z",
     "iopub.status.busy": "2025-03-27T04:41:10.132944Z",
     "iopub.status.idle": "2025-03-27T04:41:10.598431Z",
     "shell.execute_reply": "2025-03-27T04:41:10.597596Z"
    },
    "papermill": {
     "duration": 0.623205,
     "end_time": "2025-03-27T04:41:10.600021",
     "exception": false,
     "start_time": "2025-03-27T04:41:09.976816",
     "status": "completed"
    },
    "tags": []
   },
   "outputs": [
    {
     "name": "stdout",
     "output_type": "stream",
     "text": [
      "Métricas consolidadas salvas em 'metricas_modelos_final.csv'.\n"
     ]
    },
    {
     "data": {
      "image/png": "[encoded data removed]",
      "text/plain": [
       "<Figure size 800x600 with 1 Axes>"
      ]
     },
     "metadata": {},
     "output_type": "display_data"
    }
   ],
   "source": [
    "# Agrega os arquivos de métricas individuais\n",
    "metrics_files = glob.glob('metrics_model_*.csv')\n",
    "df_list = [pd.read_csv(f) for f in metrics_files]\n",
    "df_metrics = pd.concat(df_list, ignore_index=True)\n",
    "df_metrics.to_csv('metricas_modelos_final.csv', index=False)\n",
    "print(\"Métricas consolidadas salvas em 'metricas_modelos_final.csv'.\")\n",
    "\n",
    "# Cria o gráfico para as curvas ROC\n",
    "plt.figure(figsize=(8, 6))\n",
    "cores = ['blue', 'green', 'red', 'orange', 'purple']\n",
    "\n",
    "for i in range(5):\n",
    "    roc_file = f'roc_model_{i}.csv'\n",
    "    try:\n",
    "        df_roc = pd.read_csv(roc_file)\n",
    "        # Obtem o valor de AUC do DataFrame consolidado\n",
    "        auc_val = df_metrics.loc[df_metrics['model'] == i, 'auc'].values[0]\n",
    "        plt.plot(df_roc['fpr'], df_roc['tpr'], color=cores[i % len(cores)],\n",
    "                 label=f'Modelo {i} (AUC = {auc_val:.4f})')\n",
    "    except FileNotFoundError:\n",
    "        print(f\"Arquivo {roc_file} não encontrado.\")\n",
    "\n",
    "# Plota a linha base e configurações finais\n",
    "plt.plot([0, 1], [0, 1], 'k--', label='Linha base')\n",
    "plt.xlabel('Taxa de Falsos Positivos')\n",
    "plt.ylabel('Taxa de Verdadeiros Positivos')\n",
    "plt.title('Curva ROC - Todos os Modelos')\n",
    "plt.legend(loc='lower right')\n",
    "plt.show()"
   ]
  },
  {
   "cell_type": "code",
   "execution_count": 13,
   "id": "95a3566c",
   "metadata": {
    "execution": {
     "iopub.execute_input": "2025-03-27T04:41:10.965256Z",
     "iopub.status.busy": "2025-03-27T04:41:10.964973Z",
     "iopub.status.idle": "2025-03-27T04:41:10.989014Z",
     "shell.execute_reply": "2025-03-27T04:41:10.988231Z"
    },
    "papermill": {
     "duration": 0.230776,
     "end_time": "2025-03-27T04:41:10.990196",
     "exception": false,
     "start_time": "2025-03-27T04:41:10.759420",
     "status": "completed"
    },
    "tags": []
   },
   "outputs": [
    {
     "data": {
      "text/html": [
       "<div>\n",
       "<style scoped>\n",
       "    .dataframe tbody tr th:only-of-type {\n",
       "        vertical-align: middle;\n",
       "    }\n",
       "\n",
       "    .dataframe tbody tr th {\n",
       "        vertical-align: top;\n",
       "    }\n",
       "\n",
       "    .dataframe thead th {\n",
       "        text-align: right;\n",
       "    }\n",
       "</style>\n",
       "<table border=\"1\" class=\"dataframe\">\n",
       "  <thead>\n",
       "    <tr style=\"text-align: right;\">\n",
       "      <th></th>\n",
       "      <th>model</th>\n",
       "      <th>loss</th>\n",
       "      <th>accuracy</th>\n",
       "      <th>precision</th>\n",
       "      <th>recall</th>\n",
       "      <th>auc</th>\n",
       "    </tr>\n",
       "  </thead>\n",
       "  <tbody>\n",
       "    <tr>\n",
       "      <th>0</th>\n",
       "      <td>0</td>\n",
       "      <td>0.060691</td>\n",
       "      <td>0.993788</td>\n",
       "      <td>0.995091</td>\n",
       "      <td>0.990768</td>\n",
       "      <td>0.998992</td>\n",
       "    </tr>\n",
       "    <tr>\n",
       "      <th>1</th>\n",
       "      <td>1</td>\n",
       "      <td>0.065739</td>\n",
       "      <td>0.990166</td>\n",
       "      <td>0.994699</td>\n",
       "      <td>0.982885</td>\n",
       "      <td>0.998550</td>\n",
       "    </tr>\n",
       "    <tr>\n",
       "      <th>2</th>\n",
       "      <td>2</td>\n",
       "      <td>0.132862</td>\n",
       "      <td>0.972829</td>\n",
       "      <td>0.948644</td>\n",
       "      <td>0.991936</td>\n",
       "      <td>0.997614</td>\n",
       "    </tr>\n",
       "    <tr>\n",
       "      <th>3</th>\n",
       "      <td>3</td>\n",
       "      <td>0.058732</td>\n",
       "      <td>0.993144</td>\n",
       "      <td>0.993039</td>\n",
       "      <td>0.991365</td>\n",
       "      <td>0.999165</td>\n",
       "    </tr>\n",
       "    <tr>\n",
       "      <th>4</th>\n",
       "      <td>4</td>\n",
       "      <td>0.176493</td>\n",
       "      <td>0.976285</td>\n",
       "      <td>0.990700</td>\n",
       "      <td>0.955058</td>\n",
       "      <td>0.994053</td>\n",
       "    </tr>\n",
       "  </tbody>\n",
       "</table>\n",
       "</div>"
      ],
      "text/plain": [
       "   model      loss  accuracy  precision    recall       auc\n",
       "0      0  0.060691  0.993788   0.995091  0.990768  0.998992\n",
       "1      1  0.065739  0.990166   0.994699  0.982885  0.998550\n",
       "2      2  0.132862  0.972829   0.948644  0.991936  0.997614\n",
       "3      3  0.058732  0.993144   0.993039  0.991365  0.999165\n",
       "4      4  0.176493  0.976285   0.990700  0.955058  0.994053"
      ]
     },
     "metadata": {},
     "output_type": "display_data"
    }
   ],
   "source": [
    "# Lê o CSV consolidado\n",
    "df_metrics = pd.read_csv('metricas_modelos_final.csv')\n",
    "display(df_metrics)\n"
   ]
  }
 ],
 "metadata": {
  "kaggle": {
   "accelerator": "nvidiaTeslaT4",
   "dataSources": [
    {
     "datasetId": 6974757,
     "sourceId": 11175267,
     "sourceType": "datasetVersion"
    },
    {
     "isSourceIdPinned": true,
     "modelId": 280577,
     "modelInstanceId": 259391,
     "sourceId": 303891,
     "sourceType": "modelInstanceVersion"
    }
   ],
   "dockerImageVersionId": 30918,
   "isGpuEnabled": true,
   "isInternetEnabled": true,
   "language": "python",
   "sourceType": "notebook"
  },
  "kernelspec": {
   "display_name": "Python 3",
   "language": "python",
   "name": "python3"
  },
  "language_info": {
   "codemirror_mode": {
    "name": "ipython",
    "version": 3
   },
   "file_extension": ".py",
   "mimetype": "text/x-python",
   "name": "python",
   "nbconvert_exporter": "python",
   "pygments_lexer": "ipython3",
   "version": "3.10.12"
  },
  "papermill": {
   "default_parameters": {},
   "duration": 671.201897,
   "end_time": "2025-03-27T04:41:13.955244",
   "environment_variables": {},
   "exception": null,
   "input_path": "__notebook__.ipynb",
   "output_path": "__notebook__.ipynb",
   "parameters": {},
   "start_time": "2025-03-27T04:30:02.753347",
   "version": "2.6.0"
  }
 },
 "nbformat": 4,
 "nbformat_minor": 5
}
